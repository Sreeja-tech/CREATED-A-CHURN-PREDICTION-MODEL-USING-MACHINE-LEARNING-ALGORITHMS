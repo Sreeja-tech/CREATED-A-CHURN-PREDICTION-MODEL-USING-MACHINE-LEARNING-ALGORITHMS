{
 "cells": [
  {
   "cell_type": "code",
   "execution_count": 3,
   "id": "c5725b33",
   "metadata": {},
   "outputs": [],
   "source": [
    "import numpy as np\n",
    "import pandas as pd\n",
    "import seaborn as sns\n",
    "import matplotlib.pyplot as plt"
   ]
  },
  {
   "cell_type": "code",
   "execution_count": 4,
   "id": "23d693b2",
   "metadata": {},
   "outputs": [],
   "source": [
    "data=pd.read_csv('churn_train.csv')\n",
    "test_data=pd.read_csv('churn_test.csv')"
   ]
  },
  {
   "cell_type": "code",
   "execution_count": 5,
   "id": "67a0c789",
   "metadata": {
    "scrolled": true
   },
   "outputs": [
    {
     "data": {
      "text/html": [
       "<div>\n",
       "<style scoped>\n",
       "    .dataframe tbody tr th:only-of-type {\n",
       "        vertical-align: middle;\n",
       "    }\n",
       "\n",
       "    .dataframe tbody tr th {\n",
       "        vertical-align: top;\n",
       "    }\n",
       "\n",
       "    .dataframe thead th {\n",
       "        text-align: right;\n",
       "    }\n",
       "</style>\n",
       "<table border=\"1\" class=\"dataframe\">\n",
       "  <thead>\n",
       "    <tr style=\"text-align: right;\">\n",
       "      <th></th>\n",
       "      <th>State</th>\n",
       "      <th>Account length</th>\n",
       "      <th>Area code</th>\n",
       "      <th>International plan</th>\n",
       "      <th>Voice mail plan</th>\n",
       "      <th>Number vmail messages</th>\n",
       "      <th>Total day minutes</th>\n",
       "      <th>Total day calls</th>\n",
       "      <th>Total day charge</th>\n",
       "      <th>Total eve minutes</th>\n",
       "      <th>Total eve calls</th>\n",
       "      <th>Total eve charge</th>\n",
       "      <th>Total night minutes</th>\n",
       "      <th>Total night calls</th>\n",
       "      <th>Total night charge</th>\n",
       "      <th>Total intl minutes</th>\n",
       "      <th>Total intl calls</th>\n",
       "      <th>Total intl charge</th>\n",
       "      <th>Customer service calls</th>\n",
       "      <th>Churn</th>\n",
       "    </tr>\n",
       "  </thead>\n",
       "  <tbody>\n",
       "    <tr>\n",
       "      <th>0</th>\n",
       "      <td>KS</td>\n",
       "      <td>128</td>\n",
       "      <td>415</td>\n",
       "      <td>No</td>\n",
       "      <td>Yes</td>\n",
       "      <td>25</td>\n",
       "      <td>265.1</td>\n",
       "      <td>110</td>\n",
       "      <td>45.07</td>\n",
       "      <td>197.4</td>\n",
       "      <td>99</td>\n",
       "      <td>16.78</td>\n",
       "      <td>244.7</td>\n",
       "      <td>91</td>\n",
       "      <td>11.01</td>\n",
       "      <td>10.0</td>\n",
       "      <td>3</td>\n",
       "      <td>2.70</td>\n",
       "      <td>1</td>\n",
       "      <td>False</td>\n",
       "    </tr>\n",
       "    <tr>\n",
       "      <th>1</th>\n",
       "      <td>OH</td>\n",
       "      <td>107</td>\n",
       "      <td>415</td>\n",
       "      <td>No</td>\n",
       "      <td>Yes</td>\n",
       "      <td>26</td>\n",
       "      <td>161.6</td>\n",
       "      <td>123</td>\n",
       "      <td>27.47</td>\n",
       "      <td>195.5</td>\n",
       "      <td>103</td>\n",
       "      <td>16.62</td>\n",
       "      <td>254.4</td>\n",
       "      <td>103</td>\n",
       "      <td>11.45</td>\n",
       "      <td>13.7</td>\n",
       "      <td>3</td>\n",
       "      <td>3.70</td>\n",
       "      <td>1</td>\n",
       "      <td>False</td>\n",
       "    </tr>\n",
       "    <tr>\n",
       "      <th>2</th>\n",
       "      <td>NJ</td>\n",
       "      <td>137</td>\n",
       "      <td>415</td>\n",
       "      <td>No</td>\n",
       "      <td>No</td>\n",
       "      <td>0</td>\n",
       "      <td>243.4</td>\n",
       "      <td>114</td>\n",
       "      <td>41.38</td>\n",
       "      <td>121.2</td>\n",
       "      <td>110</td>\n",
       "      <td>10.30</td>\n",
       "      <td>162.6</td>\n",
       "      <td>104</td>\n",
       "      <td>7.32</td>\n",
       "      <td>12.2</td>\n",
       "      <td>5</td>\n",
       "      <td>3.29</td>\n",
       "      <td>0</td>\n",
       "      <td>False</td>\n",
       "    </tr>\n",
       "    <tr>\n",
       "      <th>3</th>\n",
       "      <td>OH</td>\n",
       "      <td>84</td>\n",
       "      <td>408</td>\n",
       "      <td>Yes</td>\n",
       "      <td>No</td>\n",
       "      <td>0</td>\n",
       "      <td>299.4</td>\n",
       "      <td>71</td>\n",
       "      <td>50.90</td>\n",
       "      <td>61.9</td>\n",
       "      <td>88</td>\n",
       "      <td>5.26</td>\n",
       "      <td>196.9</td>\n",
       "      <td>89</td>\n",
       "      <td>8.86</td>\n",
       "      <td>6.6</td>\n",
       "      <td>7</td>\n",
       "      <td>1.78</td>\n",
       "      <td>2</td>\n",
       "      <td>False</td>\n",
       "    </tr>\n",
       "    <tr>\n",
       "      <th>4</th>\n",
       "      <td>OK</td>\n",
       "      <td>75</td>\n",
       "      <td>415</td>\n",
       "      <td>Yes</td>\n",
       "      <td>No</td>\n",
       "      <td>0</td>\n",
       "      <td>166.7</td>\n",
       "      <td>113</td>\n",
       "      <td>28.34</td>\n",
       "      <td>148.3</td>\n",
       "      <td>122</td>\n",
       "      <td>12.61</td>\n",
       "      <td>186.9</td>\n",
       "      <td>121</td>\n",
       "      <td>8.41</td>\n",
       "      <td>10.1</td>\n",
       "      <td>3</td>\n",
       "      <td>2.73</td>\n",
       "      <td>3</td>\n",
       "      <td>False</td>\n",
       "    </tr>\n",
       "    <tr>\n",
       "      <th>...</th>\n",
       "      <td>...</td>\n",
       "      <td>...</td>\n",
       "      <td>...</td>\n",
       "      <td>...</td>\n",
       "      <td>...</td>\n",
       "      <td>...</td>\n",
       "      <td>...</td>\n",
       "      <td>...</td>\n",
       "      <td>...</td>\n",
       "      <td>...</td>\n",
       "      <td>...</td>\n",
       "      <td>...</td>\n",
       "      <td>...</td>\n",
       "      <td>...</td>\n",
       "      <td>...</td>\n",
       "      <td>...</td>\n",
       "      <td>...</td>\n",
       "      <td>...</td>\n",
       "      <td>...</td>\n",
       "      <td>...</td>\n",
       "    </tr>\n",
       "    <tr>\n",
       "      <th>2661</th>\n",
       "      <td>SC</td>\n",
       "      <td>79</td>\n",
       "      <td>415</td>\n",
       "      <td>No</td>\n",
       "      <td>No</td>\n",
       "      <td>0</td>\n",
       "      <td>134.7</td>\n",
       "      <td>98</td>\n",
       "      <td>22.90</td>\n",
       "      <td>189.7</td>\n",
       "      <td>68</td>\n",
       "      <td>16.12</td>\n",
       "      <td>221.4</td>\n",
       "      <td>128</td>\n",
       "      <td>9.96</td>\n",
       "      <td>11.8</td>\n",
       "      <td>5</td>\n",
       "      <td>3.19</td>\n",
       "      <td>2</td>\n",
       "      <td>False</td>\n",
       "    </tr>\n",
       "    <tr>\n",
       "      <th>2662</th>\n",
       "      <td>AZ</td>\n",
       "      <td>192</td>\n",
       "      <td>415</td>\n",
       "      <td>No</td>\n",
       "      <td>Yes</td>\n",
       "      <td>36</td>\n",
       "      <td>156.2</td>\n",
       "      <td>77</td>\n",
       "      <td>26.55</td>\n",
       "      <td>215.5</td>\n",
       "      <td>126</td>\n",
       "      <td>18.32</td>\n",
       "      <td>279.1</td>\n",
       "      <td>83</td>\n",
       "      <td>12.56</td>\n",
       "      <td>9.9</td>\n",
       "      <td>6</td>\n",
       "      <td>2.67</td>\n",
       "      <td>2</td>\n",
       "      <td>False</td>\n",
       "    </tr>\n",
       "    <tr>\n",
       "      <th>2663</th>\n",
       "      <td>WV</td>\n",
       "      <td>68</td>\n",
       "      <td>415</td>\n",
       "      <td>No</td>\n",
       "      <td>No</td>\n",
       "      <td>0</td>\n",
       "      <td>231.1</td>\n",
       "      <td>57</td>\n",
       "      <td>39.29</td>\n",
       "      <td>153.4</td>\n",
       "      <td>55</td>\n",
       "      <td>13.04</td>\n",
       "      <td>191.3</td>\n",
       "      <td>123</td>\n",
       "      <td>8.61</td>\n",
       "      <td>9.6</td>\n",
       "      <td>4</td>\n",
       "      <td>2.59</td>\n",
       "      <td>3</td>\n",
       "      <td>False</td>\n",
       "    </tr>\n",
       "    <tr>\n",
       "      <th>2664</th>\n",
       "      <td>RI</td>\n",
       "      <td>28</td>\n",
       "      <td>510</td>\n",
       "      <td>No</td>\n",
       "      <td>No</td>\n",
       "      <td>0</td>\n",
       "      <td>180.8</td>\n",
       "      <td>109</td>\n",
       "      <td>30.74</td>\n",
       "      <td>288.8</td>\n",
       "      <td>58</td>\n",
       "      <td>24.55</td>\n",
       "      <td>191.9</td>\n",
       "      <td>91</td>\n",
       "      <td>8.64</td>\n",
       "      <td>14.1</td>\n",
       "      <td>6</td>\n",
       "      <td>3.81</td>\n",
       "      <td>2</td>\n",
       "      <td>False</td>\n",
       "    </tr>\n",
       "    <tr>\n",
       "      <th>2665</th>\n",
       "      <td>TN</td>\n",
       "      <td>74</td>\n",
       "      <td>415</td>\n",
       "      <td>No</td>\n",
       "      <td>Yes</td>\n",
       "      <td>25</td>\n",
       "      <td>234.4</td>\n",
       "      <td>113</td>\n",
       "      <td>39.85</td>\n",
       "      <td>265.9</td>\n",
       "      <td>82</td>\n",
       "      <td>22.60</td>\n",
       "      <td>241.4</td>\n",
       "      <td>77</td>\n",
       "      <td>10.86</td>\n",
       "      <td>13.7</td>\n",
       "      <td>4</td>\n",
       "      <td>3.70</td>\n",
       "      <td>0</td>\n",
       "      <td>False</td>\n",
       "    </tr>\n",
       "  </tbody>\n",
       "</table>\n",
       "<p>2666 rows × 20 columns</p>\n",
       "</div>"
      ],
      "text/plain": [
       "     State  Account length  Area code International plan Voice mail plan  \\\n",
       "0       KS             128        415                 No             Yes   \n",
       "1       OH             107        415                 No             Yes   \n",
       "2       NJ             137        415                 No              No   \n",
       "3       OH              84        408                Yes              No   \n",
       "4       OK              75        415                Yes              No   \n",
       "...    ...             ...        ...                ...             ...   \n",
       "2661    SC              79        415                 No              No   \n",
       "2662    AZ             192        415                 No             Yes   \n",
       "2663    WV              68        415                 No              No   \n",
       "2664    RI              28        510                 No              No   \n",
       "2665    TN              74        415                 No             Yes   \n",
       "\n",
       "      Number vmail messages  Total day minutes  Total day calls  \\\n",
       "0                        25              265.1              110   \n",
       "1                        26              161.6              123   \n",
       "2                         0              243.4              114   \n",
       "3                         0              299.4               71   \n",
       "4                         0              166.7              113   \n",
       "...                     ...                ...              ...   \n",
       "2661                      0              134.7               98   \n",
       "2662                     36              156.2               77   \n",
       "2663                      0              231.1               57   \n",
       "2664                      0              180.8              109   \n",
       "2665                     25              234.4              113   \n",
       "\n",
       "      Total day charge  Total eve minutes  Total eve calls  Total eve charge  \\\n",
       "0                45.07              197.4               99             16.78   \n",
       "1                27.47              195.5              103             16.62   \n",
       "2                41.38              121.2              110             10.30   \n",
       "3                50.90               61.9               88              5.26   \n",
       "4                28.34              148.3              122             12.61   \n",
       "...                ...                ...              ...               ...   \n",
       "2661             22.90              189.7               68             16.12   \n",
       "2662             26.55              215.5              126             18.32   \n",
       "2663             39.29              153.4               55             13.04   \n",
       "2664             30.74              288.8               58             24.55   \n",
       "2665             39.85              265.9               82             22.60   \n",
       "\n",
       "      Total night minutes  Total night calls  Total night charge  \\\n",
       "0                   244.7                 91               11.01   \n",
       "1                   254.4                103               11.45   \n",
       "2                   162.6                104                7.32   \n",
       "3                   196.9                 89                8.86   \n",
       "4                   186.9                121                8.41   \n",
       "...                   ...                ...                 ...   \n",
       "2661                221.4                128                9.96   \n",
       "2662                279.1                 83               12.56   \n",
       "2663                191.3                123                8.61   \n",
       "2664                191.9                 91                8.64   \n",
       "2665                241.4                 77               10.86   \n",
       "\n",
       "      Total intl minutes  Total intl calls  Total intl charge  \\\n",
       "0                   10.0                 3               2.70   \n",
       "1                   13.7                 3               3.70   \n",
       "2                   12.2                 5               3.29   \n",
       "3                    6.6                 7               1.78   \n",
       "4                   10.1                 3               2.73   \n",
       "...                  ...               ...                ...   \n",
       "2661                11.8                 5               3.19   \n",
       "2662                 9.9                 6               2.67   \n",
       "2663                 9.6                 4               2.59   \n",
       "2664                14.1                 6               3.81   \n",
       "2665                13.7                 4               3.70   \n",
       "\n",
       "      Customer service calls  Churn  \n",
       "0                          1  False  \n",
       "1                          1  False  \n",
       "2                          0  False  \n",
       "3                          2  False  \n",
       "4                          3  False  \n",
       "...                      ...    ...  \n",
       "2661                       2  False  \n",
       "2662                       2  False  \n",
       "2663                       3  False  \n",
       "2664                       2  False  \n",
       "2665                       0  False  \n",
       "\n",
       "[2666 rows x 20 columns]"
      ]
     },
     "execution_count": 5,
     "metadata": {},
     "output_type": "execute_result"
    }
   ],
   "source": [
    "data"
   ]
  },
  {
   "cell_type": "code",
   "execution_count": 10,
   "id": "6fc24e2f",
   "metadata": {},
   "outputs": [
    {
     "data": {
      "text/plain": [
       "(667, 20)"
      ]
     },
     "execution_count": 10,
     "metadata": {},
     "output_type": "execute_result"
    }
   ],
   "source": [
    "test_data.shape"
   ]
  },
  {
   "cell_type": "markdown",
   "id": "90da21b8",
   "metadata": {},
   "source": [
    "## Now we will check whether there are any NA values in the data or not."
   ]
  },
  {
   "cell_type": "code",
   "execution_count": 4,
   "id": "46568741",
   "metadata": {},
   "outputs": [
    {
     "data": {
      "text/plain": [
       "State                     0\n",
       "Account length            0\n",
       "Area code                 0\n",
       "International plan        0\n",
       "Voice mail plan           0\n",
       "Number vmail messages     0\n",
       "Total day minutes         0\n",
       "Total day calls           0\n",
       "Total day charge          0\n",
       "Total eve minutes         0\n",
       "Total eve calls           0\n",
       "Total eve charge          0\n",
       "Total night minutes       0\n",
       "Total night calls         0\n",
       "Total night charge        0\n",
       "Total intl minutes        0\n",
       "Total intl calls          0\n",
       "Total intl charge         0\n",
       "Customer service calls    0\n",
       "Churn                     0\n",
       "dtype: int64"
      ]
     },
     "execution_count": 4,
     "metadata": {},
     "output_type": "execute_result"
    }
   ],
   "source": [
    "data.isnull().sum()"
   ]
  },
  {
   "cell_type": "markdown",
   "id": "1addb0b2",
   "metadata": {},
   "source": [
    "## As there are no NA values in the dataset, thus data cleaning is not required."
   ]
  },
  {
   "cell_type": "markdown",
   "id": "e9d8a1e4",
   "metadata": {},
   "source": [
    "## At first we will convert the categorical data into numerical format using encoding.\n"
   ]
  },
  {
   "cell_type": "code",
   "execution_count": 5,
   "id": "62c62070",
   "metadata": {},
   "outputs": [],
   "source": [
    "data.loc[data['International plan']=='No','International plan']=0\n",
    "data.loc[data['International plan']=='Yes','International plan']=1\n",
    "data.loc[data['Voice mail plan']=='No','Voice mail plan']=0\n",
    "data.loc[data['Voice mail plan']=='Yes','Voice mail plan']=1\n",
    "data['International plan']=data['International plan'].astype(int)\n",
    "data['Voice mail plan']=data['Voice mail plan'].astype(int)\n",
    "data.loc[data['Churn']=='False','Churn']=0\n",
    "data.loc[data['Churn']=='True','Churn']=1\n",
    "data['Churn']=data['Churn'].astype(int)"
   ]
  },
  {
   "cell_type": "code",
   "execution_count": 6,
   "id": "3b08c0dd",
   "metadata": {},
   "outputs": [],
   "source": [
    "test_data.loc[test_data['International plan']=='No','International plan']=0\n",
    "test_data.loc[test_data['International plan']=='Yes','International plan']=1\n",
    "test_data.loc[test_data['Voice mail plan']=='No','Voice mail plan']=0\n",
    "test_data.loc[test_data['Voice mail plan']=='Yes','Voice mail plan']=1\n",
    "test_data['International plan']=test_data['International plan'].astype(int)\n",
    "test_data['Voice mail plan']=test_data['Voice mail plan'].astype(int)\n",
    "test_data.loc[test_data['Churn']=='False','Churn']=0\n",
    "test_data.loc[test_data['Churn']=='True','Churn']=1\n",
    "test_data['Churn']=test_data['Churn'].astype(int)"
   ]
  },
  {
   "cell_type": "code",
   "execution_count": 7,
   "id": "cf268c95",
   "metadata": {
    "scrolled": true
   },
   "outputs": [
    {
     "name": "stdout",
     "output_type": "stream",
     "text": [
      "<class 'pandas.core.frame.DataFrame'>\n",
      "RangeIndex: 2666 entries, 0 to 2665\n",
      "Data columns (total 20 columns):\n",
      " #   Column                  Non-Null Count  Dtype  \n",
      "---  ------                  --------------  -----  \n",
      " 0   State                   2666 non-null   object \n",
      " 1   Account length          2666 non-null   int64  \n",
      " 2   Area code               2666 non-null   int64  \n",
      " 3   International plan      2666 non-null   int32  \n",
      " 4   Voice mail plan         2666 non-null   int32  \n",
      " 5   Number vmail messages   2666 non-null   int64  \n",
      " 6   Total day minutes       2666 non-null   float64\n",
      " 7   Total day calls         2666 non-null   int64  \n",
      " 8   Total day charge        2666 non-null   float64\n",
      " 9   Total eve minutes       2666 non-null   float64\n",
      " 10  Total eve calls         2666 non-null   int64  \n",
      " 11  Total eve charge        2666 non-null   float64\n",
      " 12  Total night minutes     2666 non-null   float64\n",
      " 13  Total night calls       2666 non-null   int64  \n",
      " 14  Total night charge      2666 non-null   float64\n",
      " 15  Total intl minutes      2666 non-null   float64\n",
      " 16  Total intl calls        2666 non-null   int64  \n",
      " 17  Total intl charge       2666 non-null   float64\n",
      " 18  Customer service calls  2666 non-null   int64  \n",
      " 19  Churn                   2666 non-null   int32  \n",
      "dtypes: float64(8), int32(3), int64(8), object(1)\n",
      "memory usage: 385.4+ KB\n"
     ]
    }
   ],
   "source": [
    "data.info()"
   ]
  },
  {
   "cell_type": "markdown",
   "id": "ebb29904",
   "metadata": {},
   "source": [
    "## We'll now directly apply our model to the unprocessed training and validation data in order to evaluate the accuracy. Next, we'll apply feature selection on our dataset and then apply the model again and compare the accuracy."
   ]
  },
  {
   "cell_type": "markdown",
   "id": "360517b8",
   "metadata": {},
   "source": [
    "## APPLYING ARTIFICIAL NEURAL NETWORKS"
   ]
  },
  {
   "cell_type": "code",
   "execution_count": 8,
   "id": "9e44101f",
   "metadata": {},
   "outputs": [],
   "source": [
    "from sklearn.model_selection import train_test_split "
   ]
  },
  {
   "cell_type": "code",
   "execution_count": 9,
   "id": "04977fc8",
   "metadata": {
    "scrolled": true
   },
   "outputs": [
    {
     "data": {
      "text/html": [
       "<div>\n",
       "<style scoped>\n",
       "    .dataframe tbody tr th:only-of-type {\n",
       "        vertical-align: middle;\n",
       "    }\n",
       "\n",
       "    .dataframe tbody tr th {\n",
       "        vertical-align: top;\n",
       "    }\n",
       "\n",
       "    .dataframe thead th {\n",
       "        text-align: right;\n",
       "    }\n",
       "</style>\n",
       "<table border=\"1\" class=\"dataframe\">\n",
       "  <thead>\n",
       "    <tr style=\"text-align: right;\">\n",
       "      <th></th>\n",
       "      <th>Account length</th>\n",
       "      <th>Area code</th>\n",
       "      <th>International plan</th>\n",
       "      <th>Voice mail plan</th>\n",
       "      <th>Number vmail messages</th>\n",
       "      <th>Total day minutes</th>\n",
       "      <th>Total day calls</th>\n",
       "      <th>Total day charge</th>\n",
       "      <th>Total eve minutes</th>\n",
       "      <th>Total eve calls</th>\n",
       "      <th>Total eve charge</th>\n",
       "      <th>Total night minutes</th>\n",
       "      <th>Total night calls</th>\n",
       "      <th>Total night charge</th>\n",
       "      <th>Total intl minutes</th>\n",
       "      <th>Total intl calls</th>\n",
       "      <th>Total intl charge</th>\n",
       "      <th>Customer service calls</th>\n",
       "    </tr>\n",
       "  </thead>\n",
       "  <tbody>\n",
       "    <tr>\n",
       "      <th>0</th>\n",
       "      <td>128</td>\n",
       "      <td>415</td>\n",
       "      <td>0</td>\n",
       "      <td>1</td>\n",
       "      <td>25</td>\n",
       "      <td>265.1</td>\n",
       "      <td>110</td>\n",
       "      <td>45.07</td>\n",
       "      <td>197.4</td>\n",
       "      <td>99</td>\n",
       "      <td>16.78</td>\n",
       "      <td>244.7</td>\n",
       "      <td>91</td>\n",
       "      <td>11.01</td>\n",
       "      <td>10.0</td>\n",
       "      <td>3</td>\n",
       "      <td>2.70</td>\n",
       "      <td>1</td>\n",
       "    </tr>\n",
       "    <tr>\n",
       "      <th>1</th>\n",
       "      <td>107</td>\n",
       "      <td>415</td>\n",
       "      <td>0</td>\n",
       "      <td>1</td>\n",
       "      <td>26</td>\n",
       "      <td>161.6</td>\n",
       "      <td>123</td>\n",
       "      <td>27.47</td>\n",
       "      <td>195.5</td>\n",
       "      <td>103</td>\n",
       "      <td>16.62</td>\n",
       "      <td>254.4</td>\n",
       "      <td>103</td>\n",
       "      <td>11.45</td>\n",
       "      <td>13.7</td>\n",
       "      <td>3</td>\n",
       "      <td>3.70</td>\n",
       "      <td>1</td>\n",
       "    </tr>\n",
       "    <tr>\n",
       "      <th>2</th>\n",
       "      <td>137</td>\n",
       "      <td>415</td>\n",
       "      <td>0</td>\n",
       "      <td>0</td>\n",
       "      <td>0</td>\n",
       "      <td>243.4</td>\n",
       "      <td>114</td>\n",
       "      <td>41.38</td>\n",
       "      <td>121.2</td>\n",
       "      <td>110</td>\n",
       "      <td>10.30</td>\n",
       "      <td>162.6</td>\n",
       "      <td>104</td>\n",
       "      <td>7.32</td>\n",
       "      <td>12.2</td>\n",
       "      <td>5</td>\n",
       "      <td>3.29</td>\n",
       "      <td>0</td>\n",
       "    </tr>\n",
       "    <tr>\n",
       "      <th>3</th>\n",
       "      <td>84</td>\n",
       "      <td>408</td>\n",
       "      <td>1</td>\n",
       "      <td>0</td>\n",
       "      <td>0</td>\n",
       "      <td>299.4</td>\n",
       "      <td>71</td>\n",
       "      <td>50.90</td>\n",
       "      <td>61.9</td>\n",
       "      <td>88</td>\n",
       "      <td>5.26</td>\n",
       "      <td>196.9</td>\n",
       "      <td>89</td>\n",
       "      <td>8.86</td>\n",
       "      <td>6.6</td>\n",
       "      <td>7</td>\n",
       "      <td>1.78</td>\n",
       "      <td>2</td>\n",
       "    </tr>\n",
       "    <tr>\n",
       "      <th>4</th>\n",
       "      <td>75</td>\n",
       "      <td>415</td>\n",
       "      <td>1</td>\n",
       "      <td>0</td>\n",
       "      <td>0</td>\n",
       "      <td>166.7</td>\n",
       "      <td>113</td>\n",
       "      <td>28.34</td>\n",
       "      <td>148.3</td>\n",
       "      <td>122</td>\n",
       "      <td>12.61</td>\n",
       "      <td>186.9</td>\n",
       "      <td>121</td>\n",
       "      <td>8.41</td>\n",
       "      <td>10.1</td>\n",
       "      <td>3</td>\n",
       "      <td>2.73</td>\n",
       "      <td>3</td>\n",
       "    </tr>\n",
       "    <tr>\n",
       "      <th>...</th>\n",
       "      <td>...</td>\n",
       "      <td>...</td>\n",
       "      <td>...</td>\n",
       "      <td>...</td>\n",
       "      <td>...</td>\n",
       "      <td>...</td>\n",
       "      <td>...</td>\n",
       "      <td>...</td>\n",
       "      <td>...</td>\n",
       "      <td>...</td>\n",
       "      <td>...</td>\n",
       "      <td>...</td>\n",
       "      <td>...</td>\n",
       "      <td>...</td>\n",
       "      <td>...</td>\n",
       "      <td>...</td>\n",
       "      <td>...</td>\n",
       "      <td>...</td>\n",
       "    </tr>\n",
       "    <tr>\n",
       "      <th>2661</th>\n",
       "      <td>79</td>\n",
       "      <td>415</td>\n",
       "      <td>0</td>\n",
       "      <td>0</td>\n",
       "      <td>0</td>\n",
       "      <td>134.7</td>\n",
       "      <td>98</td>\n",
       "      <td>22.90</td>\n",
       "      <td>189.7</td>\n",
       "      <td>68</td>\n",
       "      <td>16.12</td>\n",
       "      <td>221.4</td>\n",
       "      <td>128</td>\n",
       "      <td>9.96</td>\n",
       "      <td>11.8</td>\n",
       "      <td>5</td>\n",
       "      <td>3.19</td>\n",
       "      <td>2</td>\n",
       "    </tr>\n",
       "    <tr>\n",
       "      <th>2662</th>\n",
       "      <td>192</td>\n",
       "      <td>415</td>\n",
       "      <td>0</td>\n",
       "      <td>1</td>\n",
       "      <td>36</td>\n",
       "      <td>156.2</td>\n",
       "      <td>77</td>\n",
       "      <td>26.55</td>\n",
       "      <td>215.5</td>\n",
       "      <td>126</td>\n",
       "      <td>18.32</td>\n",
       "      <td>279.1</td>\n",
       "      <td>83</td>\n",
       "      <td>12.56</td>\n",
       "      <td>9.9</td>\n",
       "      <td>6</td>\n",
       "      <td>2.67</td>\n",
       "      <td>2</td>\n",
       "    </tr>\n",
       "    <tr>\n",
       "      <th>2663</th>\n",
       "      <td>68</td>\n",
       "      <td>415</td>\n",
       "      <td>0</td>\n",
       "      <td>0</td>\n",
       "      <td>0</td>\n",
       "      <td>231.1</td>\n",
       "      <td>57</td>\n",
       "      <td>39.29</td>\n",
       "      <td>153.4</td>\n",
       "      <td>55</td>\n",
       "      <td>13.04</td>\n",
       "      <td>191.3</td>\n",
       "      <td>123</td>\n",
       "      <td>8.61</td>\n",
       "      <td>9.6</td>\n",
       "      <td>4</td>\n",
       "      <td>2.59</td>\n",
       "      <td>3</td>\n",
       "    </tr>\n",
       "    <tr>\n",
       "      <th>2664</th>\n",
       "      <td>28</td>\n",
       "      <td>510</td>\n",
       "      <td>0</td>\n",
       "      <td>0</td>\n",
       "      <td>0</td>\n",
       "      <td>180.8</td>\n",
       "      <td>109</td>\n",
       "      <td>30.74</td>\n",
       "      <td>288.8</td>\n",
       "      <td>58</td>\n",
       "      <td>24.55</td>\n",
       "      <td>191.9</td>\n",
       "      <td>91</td>\n",
       "      <td>8.64</td>\n",
       "      <td>14.1</td>\n",
       "      <td>6</td>\n",
       "      <td>3.81</td>\n",
       "      <td>2</td>\n",
       "    </tr>\n",
       "    <tr>\n",
       "      <th>2665</th>\n",
       "      <td>74</td>\n",
       "      <td>415</td>\n",
       "      <td>0</td>\n",
       "      <td>1</td>\n",
       "      <td>25</td>\n",
       "      <td>234.4</td>\n",
       "      <td>113</td>\n",
       "      <td>39.85</td>\n",
       "      <td>265.9</td>\n",
       "      <td>82</td>\n",
       "      <td>22.60</td>\n",
       "      <td>241.4</td>\n",
       "      <td>77</td>\n",
       "      <td>10.86</td>\n",
       "      <td>13.7</td>\n",
       "      <td>4</td>\n",
       "      <td>3.70</td>\n",
       "      <td>0</td>\n",
       "    </tr>\n",
       "  </tbody>\n",
       "</table>\n",
       "<p>2666 rows × 18 columns</p>\n",
       "</div>"
      ],
      "text/plain": [
       "      Account length  Area code  International plan  Voice mail plan  \\\n",
       "0                128        415                   0                1   \n",
       "1                107        415                   0                1   \n",
       "2                137        415                   0                0   \n",
       "3                 84        408                   1                0   \n",
       "4                 75        415                   1                0   \n",
       "...              ...        ...                 ...              ...   \n",
       "2661              79        415                   0                0   \n",
       "2662             192        415                   0                1   \n",
       "2663              68        415                   0                0   \n",
       "2664              28        510                   0                0   \n",
       "2665              74        415                   0                1   \n",
       "\n",
       "      Number vmail messages  Total day minutes  Total day calls  \\\n",
       "0                        25              265.1              110   \n",
       "1                        26              161.6              123   \n",
       "2                         0              243.4              114   \n",
       "3                         0              299.4               71   \n",
       "4                         0              166.7              113   \n",
       "...                     ...                ...              ...   \n",
       "2661                      0              134.7               98   \n",
       "2662                     36              156.2               77   \n",
       "2663                      0              231.1               57   \n",
       "2664                      0              180.8              109   \n",
       "2665                     25              234.4              113   \n",
       "\n",
       "      Total day charge  Total eve minutes  Total eve calls  Total eve charge  \\\n",
       "0                45.07              197.4               99             16.78   \n",
       "1                27.47              195.5              103             16.62   \n",
       "2                41.38              121.2              110             10.30   \n",
       "3                50.90               61.9               88              5.26   \n",
       "4                28.34              148.3              122             12.61   \n",
       "...                ...                ...              ...               ...   \n",
       "2661             22.90              189.7               68             16.12   \n",
       "2662             26.55              215.5              126             18.32   \n",
       "2663             39.29              153.4               55             13.04   \n",
       "2664             30.74              288.8               58             24.55   \n",
       "2665             39.85              265.9               82             22.60   \n",
       "\n",
       "      Total night minutes  Total night calls  Total night charge  \\\n",
       "0                   244.7                 91               11.01   \n",
       "1                   254.4                103               11.45   \n",
       "2                   162.6                104                7.32   \n",
       "3                   196.9                 89                8.86   \n",
       "4                   186.9                121                8.41   \n",
       "...                   ...                ...                 ...   \n",
       "2661                221.4                128                9.96   \n",
       "2662                279.1                 83               12.56   \n",
       "2663                191.3                123                8.61   \n",
       "2664                191.9                 91                8.64   \n",
       "2665                241.4                 77               10.86   \n",
       "\n",
       "      Total intl minutes  Total intl calls  Total intl charge  \\\n",
       "0                   10.0                 3               2.70   \n",
       "1                   13.7                 3               3.70   \n",
       "2                   12.2                 5               3.29   \n",
       "3                    6.6                 7               1.78   \n",
       "4                   10.1                 3               2.73   \n",
       "...                  ...               ...                ...   \n",
       "2661                11.8                 5               3.19   \n",
       "2662                 9.9                 6               2.67   \n",
       "2663                 9.6                 4               2.59   \n",
       "2664                14.1                 6               3.81   \n",
       "2665                13.7                 4               3.70   \n",
       "\n",
       "      Customer service calls  \n",
       "0                          1  \n",
       "1                          1  \n",
       "2                          0  \n",
       "3                          2  \n",
       "4                          3  \n",
       "...                      ...  \n",
       "2661                       2  \n",
       "2662                       2  \n",
       "2663                       3  \n",
       "2664                       2  \n",
       "2665                       0  \n",
       "\n",
       "[2666 rows x 18 columns]"
      ]
     },
     "execution_count": 9,
     "metadata": {},
     "output_type": "execute_result"
    }
   ],
   "source": [
    "x=data.iloc[:,1:19]\n",
    "x"
   ]
  },
  {
   "cell_type": "code",
   "execution_count": 10,
   "id": "e4861cf3",
   "metadata": {},
   "outputs": [
    {
     "data": {
      "text/html": [
       "<div>\n",
       "<style scoped>\n",
       "    .dataframe tbody tr th:only-of-type {\n",
       "        vertical-align: middle;\n",
       "    }\n",
       "\n",
       "    .dataframe tbody tr th {\n",
       "        vertical-align: top;\n",
       "    }\n",
       "\n",
       "    .dataframe thead th {\n",
       "        text-align: right;\n",
       "    }\n",
       "</style>\n",
       "<table border=\"1\" class=\"dataframe\">\n",
       "  <thead>\n",
       "    <tr style=\"text-align: right;\">\n",
       "      <th></th>\n",
       "      <th>Churn</th>\n",
       "    </tr>\n",
       "  </thead>\n",
       "  <tbody>\n",
       "    <tr>\n",
       "      <th>0</th>\n",
       "      <td>0</td>\n",
       "    </tr>\n",
       "    <tr>\n",
       "      <th>1</th>\n",
       "      <td>0</td>\n",
       "    </tr>\n",
       "    <tr>\n",
       "      <th>2</th>\n",
       "      <td>0</td>\n",
       "    </tr>\n",
       "    <tr>\n",
       "      <th>3</th>\n",
       "      <td>0</td>\n",
       "    </tr>\n",
       "    <tr>\n",
       "      <th>4</th>\n",
       "      <td>0</td>\n",
       "    </tr>\n",
       "    <tr>\n",
       "      <th>...</th>\n",
       "      <td>...</td>\n",
       "    </tr>\n",
       "    <tr>\n",
       "      <th>2661</th>\n",
       "      <td>0</td>\n",
       "    </tr>\n",
       "    <tr>\n",
       "      <th>2662</th>\n",
       "      <td>0</td>\n",
       "    </tr>\n",
       "    <tr>\n",
       "      <th>2663</th>\n",
       "      <td>0</td>\n",
       "    </tr>\n",
       "    <tr>\n",
       "      <th>2664</th>\n",
       "      <td>0</td>\n",
       "    </tr>\n",
       "    <tr>\n",
       "      <th>2665</th>\n",
       "      <td>0</td>\n",
       "    </tr>\n",
       "  </tbody>\n",
       "</table>\n",
       "<p>2666 rows × 1 columns</p>\n",
       "</div>"
      ],
      "text/plain": [
       "      Churn\n",
       "0         0\n",
       "1         0\n",
       "2         0\n",
       "3         0\n",
       "4         0\n",
       "...     ...\n",
       "2661      0\n",
       "2662      0\n",
       "2663      0\n",
       "2664      0\n",
       "2665      0\n",
       "\n",
       "[2666 rows x 1 columns]"
      ]
     },
     "execution_count": 10,
     "metadata": {},
     "output_type": "execute_result"
    }
   ],
   "source": [
    "y=data.iloc[:,19:20]\n",
    "y"
   ]
  },
  {
   "cell_type": "code",
   "execution_count": 11,
   "id": "549641f6",
   "metadata": {},
   "outputs": [],
   "source": [
    "x_test=test_data.iloc[:,1:19]\n",
    "y_test=test_data.iloc[:,19:20]"
   ]
  },
  {
   "cell_type": "code",
   "execution_count": 116,
   "id": "dc593a24",
   "metadata": {},
   "outputs": [],
   "source": [
    "x_train,x_val,y_train,y_val=train_test_split(x,y,test_size=0.3)"
   ]
  },
  {
   "cell_type": "code",
   "execution_count": 117,
   "id": "64acd98a",
   "metadata": {},
   "outputs": [
    {
     "data": {
      "text/plain": [
       "(1866, 18)"
      ]
     },
     "execution_count": 117,
     "metadata": {},
     "output_type": "execute_result"
    }
   ],
   "source": [
    "x_train.shape"
   ]
  },
  {
   "cell_type": "code",
   "execution_count": 118,
   "id": "e17cf979",
   "metadata": {},
   "outputs": [
    {
     "data": {
      "text/plain": [
       "(800, 18)"
      ]
     },
     "execution_count": 118,
     "metadata": {},
     "output_type": "execute_result"
    }
   ],
   "source": [
    "x_val.shape"
   ]
  },
  {
   "cell_type": "code",
   "execution_count": 119,
   "id": "fd561674",
   "metadata": {},
   "outputs": [],
   "source": [
    "from keras import models,layers"
   ]
  },
  {
   "cell_type": "code",
   "execution_count": 120,
   "id": "0238ad51",
   "metadata": {},
   "outputs": [],
   "source": [
    "network=models.Sequential()\n",
    "network.add(layers.Dense(512,activation='leaky_relu',input_shape=(1*18,)))\n",
    "network.add(layers.Dense(128,activation='leaky_relu',input_shape=(1*18,)))\n",
    "network.add(layers.Dense(1,activation='sigmoid'))"
   ]
  },
  {
   "cell_type": "code",
   "execution_count": 121,
   "id": "2a564045",
   "metadata": {},
   "outputs": [],
   "source": [
    "network.compile(optimizer='rmsprop',loss='binary_crossentropy',metrics=['accuracy'])"
   ]
  },
  {
   "cell_type": "code",
   "execution_count": 124,
   "id": "cca599f8",
   "metadata": {},
   "outputs": [
    {
     "name": "stdout",
     "output_type": "stream",
     "text": [
      "Epoch 1/50\n",
      "59/59 [==============================] - 2s 15ms/step - loss: 10.1962 - accuracy: 0.7262 - val_loss: 3.6807 - val_accuracy: 0.8712\n",
      "Epoch 2/50\n",
      "59/59 [==============================] - 0s 6ms/step - loss: 4.0597 - accuracy: 0.7422 - val_loss: 1.3137 - val_accuracy: 0.6812\n",
      "Epoch 3/50\n",
      "59/59 [==============================] - 0s 6ms/step - loss: 2.2039 - accuracy: 0.7626 - val_loss: 0.6112 - val_accuracy: 0.8700\n",
      "Epoch 4/50\n",
      "59/59 [==============================] - 0s 6ms/step - loss: 1.5463 - accuracy: 0.7712 - val_loss: 2.2625 - val_accuracy: 0.8712\n",
      "Epoch 5/50\n",
      "59/59 [==============================] - 0s 6ms/step - loss: 1.0176 - accuracy: 0.7824 - val_loss: 0.3434 - val_accuracy: 0.8825\n",
      "Epoch 6/50\n",
      "59/59 [==============================] - 0s 7ms/step - loss: 0.7277 - accuracy: 0.8028 - val_loss: 0.9982 - val_accuracy: 0.8712\n",
      "Epoch 7/50\n",
      "59/59 [==============================] - 0s 7ms/step - loss: 0.5956 - accuracy: 0.8092 - val_loss: 0.7362 - val_accuracy: 0.6675\n",
      "Epoch 8/50\n",
      "59/59 [==============================] - 0s 8ms/step - loss: 0.5531 - accuracy: 0.8140 - val_loss: 0.4526 - val_accuracy: 0.8725\n",
      "Epoch 9/50\n",
      "59/59 [==============================] - 0s 5ms/step - loss: 0.4876 - accuracy: 0.8301 - val_loss: 1.6615 - val_accuracy: 0.1475\n",
      "Epoch 10/50\n",
      "59/59 [==============================] - 0s 5ms/step - loss: 0.4931 - accuracy: 0.8253 - val_loss: 0.4433 - val_accuracy: 0.8413\n",
      "Epoch 11/50\n",
      "59/59 [==============================] - 0s 5ms/step - loss: 0.4494 - accuracy: 0.8478 - val_loss: 0.5125 - val_accuracy: 0.8763\n",
      "Epoch 12/50\n",
      "59/59 [==============================] - 0s 5ms/step - loss: 0.4453 - accuracy: 0.8510 - val_loss: 0.3688 - val_accuracy: 0.8725\n",
      "Epoch 13/50\n",
      "59/59 [==============================] - 0s 6ms/step - loss: 0.4284 - accuracy: 0.8537 - val_loss: 0.4329 - val_accuracy: 0.8550\n",
      "Epoch 14/50\n",
      "59/59 [==============================] - 0s 7ms/step - loss: 0.4128 - accuracy: 0.8574 - val_loss: 0.4232 - val_accuracy: 0.8850\n",
      "Epoch 15/50\n",
      "59/59 [==============================] - 1s 10ms/step - loss: 0.4154 - accuracy: 0.8655 - val_loss: 0.4518 - val_accuracy: 0.8200\n",
      "Epoch 16/50\n",
      "59/59 [==============================] - 1s 11ms/step - loss: 0.4114 - accuracy: 0.8569 - val_loss: 0.3737 - val_accuracy: 0.8850\n",
      "Epoch 17/50\n",
      "59/59 [==============================] - 1s 9ms/step - loss: 0.4033 - accuracy: 0.8682 - val_loss: 0.3584 - val_accuracy: 0.8763\n",
      "Epoch 18/50\n",
      "59/59 [==============================] - 1s 9ms/step - loss: 0.3925 - accuracy: 0.8666 - val_loss: 0.5504 - val_accuracy: 0.8087\n",
      "Epoch 19/50\n",
      "59/59 [==============================] - 0s 6ms/step - loss: 0.3932 - accuracy: 0.8714 - val_loss: 0.4650 - val_accuracy: 0.8775\n",
      "Epoch 20/50\n",
      "59/59 [==============================] - 0s 5ms/step - loss: 0.3796 - accuracy: 0.8671 - val_loss: 0.4011 - val_accuracy: 0.8788\n",
      "Epoch 21/50\n",
      "59/59 [==============================] - 0s 6ms/step - loss: 0.3858 - accuracy: 0.8735 - val_loss: 0.6533 - val_accuracy: 0.6975\n",
      "Epoch 22/50\n",
      "59/59 [==============================] - 0s 5ms/step - loss: 0.3820 - accuracy: 0.8644 - val_loss: 0.3757 - val_accuracy: 0.8913\n",
      "Epoch 23/50\n",
      "59/59 [==============================] - 0s 6ms/step - loss: 0.3739 - accuracy: 0.8671 - val_loss: 0.3296 - val_accuracy: 0.8963\n",
      "Epoch 24/50\n",
      "59/59 [==============================] - 0s 6ms/step - loss: 0.3716 - accuracy: 0.8751 - val_loss: 0.5006 - val_accuracy: 0.8200\n",
      "Epoch 25/50\n",
      "59/59 [==============================] - 0s 5ms/step - loss: 0.3667 - accuracy: 0.8703 - val_loss: 0.4246 - val_accuracy: 0.8825\n",
      "Epoch 26/50\n",
      "59/59 [==============================] - 0s 5ms/step - loss: 0.3605 - accuracy: 0.8751 - val_loss: 0.3442 - val_accuracy: 0.8900\n",
      "Epoch 27/50\n",
      "59/59 [==============================] - 0s 6ms/step - loss: 0.3588 - accuracy: 0.8778 - val_loss: 0.3164 - val_accuracy: 0.8888\n",
      "Epoch 28/50\n",
      "59/59 [==============================] - 0s 6ms/step - loss: 0.3570 - accuracy: 0.8746 - val_loss: 0.5647 - val_accuracy: 0.7262\n",
      "Epoch 29/50\n",
      "59/59 [==============================] - 0s 7ms/step - loss: 0.3475 - accuracy: 0.8703 - val_loss: 1.2022 - val_accuracy: 0.4487\n",
      "Epoch 30/50\n",
      "59/59 [==============================] - 0s 6ms/step - loss: 0.3652 - accuracy: 0.8687 - val_loss: 0.3168 - val_accuracy: 0.8888\n",
      "Epoch 31/50\n",
      "59/59 [==============================] - 0s 5ms/step - loss: 0.3542 - accuracy: 0.8746 - val_loss: 0.3372 - val_accuracy: 0.8888\n",
      "Epoch 32/50\n",
      "59/59 [==============================] - 0s 6ms/step - loss: 0.3393 - accuracy: 0.8816 - val_loss: 0.4651 - val_accuracy: 0.8363\n",
      "Epoch 33/50\n",
      "59/59 [==============================] - 0s 6ms/step - loss: 0.3481 - accuracy: 0.8708 - val_loss: 0.3060 - val_accuracy: 0.8938\n",
      "Epoch 34/50\n",
      "59/59 [==============================] - 0s 5ms/step - loss: 0.3511 - accuracy: 0.8735 - val_loss: 0.5214 - val_accuracy: 0.7362\n",
      "Epoch 35/50\n",
      "59/59 [==============================] - 0s 5ms/step - loss: 0.3345 - accuracy: 0.8773 - val_loss: 0.3450 - val_accuracy: 0.8825\n",
      "Epoch 36/50\n",
      "59/59 [==============================] - 0s 5ms/step - loss: 0.3373 - accuracy: 0.8832 - val_loss: 0.6368 - val_accuracy: 0.6875\n",
      "Epoch 37/50\n",
      "59/59 [==============================] - 0s 6ms/step - loss: 0.3250 - accuracy: 0.8816 - val_loss: 0.3284 - val_accuracy: 0.8938\n",
      "Epoch 38/50\n",
      "59/59 [==============================] - 1s 10ms/step - loss: 0.3304 - accuracy: 0.8848 - val_loss: 0.3525 - val_accuracy: 0.8938\n",
      "Epoch 39/50\n",
      "59/59 [==============================] - 1s 9ms/step - loss: 0.3368 - accuracy: 0.8826 - val_loss: 0.3863 - val_accuracy: 0.8737\n",
      "Epoch 40/50\n",
      "59/59 [==============================] - 0s 5ms/step - loss: 0.3140 - accuracy: 0.8800 - val_loss: 0.3460 - val_accuracy: 0.8813\n",
      "Epoch 41/50\n",
      "59/59 [==============================] - 0s 5ms/step - loss: 0.3327 - accuracy: 0.8816 - val_loss: 0.3123 - val_accuracy: 0.8913\n",
      "Epoch 42/50\n",
      "59/59 [==============================] - 0s 5ms/step - loss: 0.3145 - accuracy: 0.8832 - val_loss: 0.3838 - val_accuracy: 0.8700\n",
      "Epoch 43/50\n",
      "59/59 [==============================] - 0s 5ms/step - loss: 0.3260 - accuracy: 0.8826 - val_loss: 0.3413 - val_accuracy: 0.8888\n",
      "Epoch 44/50\n",
      "59/59 [==============================] - 0s 5ms/step - loss: 0.3076 - accuracy: 0.8875 - val_loss: 0.3167 - val_accuracy: 0.9050\n",
      "Epoch 45/50\n",
      "59/59 [==============================] - 0s 5ms/step - loss: 0.3212 - accuracy: 0.8816 - val_loss: 0.4122 - val_accuracy: 0.8925\n",
      "Epoch 46/50\n",
      "59/59 [==============================] - 0s 5ms/step - loss: 0.3219 - accuracy: 0.8832 - val_loss: 0.2878 - val_accuracy: 0.9087\n",
      "Epoch 47/50\n",
      "59/59 [==============================] - 0s 5ms/step - loss: 0.3201 - accuracy: 0.8842 - val_loss: 0.3094 - val_accuracy: 0.8975\n",
      "Epoch 48/50\n",
      "59/59 [==============================] - 0s 5ms/step - loss: 0.3097 - accuracy: 0.8859 - val_loss: 0.3161 - val_accuracy: 0.8988\n",
      "Epoch 49/50\n",
      "59/59 [==============================] - 0s 5ms/step - loss: 0.3288 - accuracy: 0.8735 - val_loss: 0.2882 - val_accuracy: 0.9025\n",
      "Epoch 50/50\n",
      "59/59 [==============================] - 0s 5ms/step - loss: 0.3045 - accuracy: 0.8912 - val_loss: 0.3093 - val_accuracy: 0.8913\n"
     ]
    },
    {
     "data": {
      "text/plain": [
       "<keras.callbacks.History at 0x26f2844f820>"
      ]
     },
     "execution_count": 124,
     "metadata": {},
     "output_type": "execute_result"
    }
   ],
   "source": [
    "network.fit(x_train,y_train,epochs=50,batch_size=32,validation_data=(x_val,y_val))"
   ]
  },
  {
   "cell_type": "code",
   "execution_count": 125,
   "id": "8e318bba",
   "metadata": {},
   "outputs": [
    {
     "name": "stdout",
     "output_type": "stream",
     "text": [
      "21/21 [==============================] - 0s 3ms/step - loss: 0.2764 - accuracy: 0.9085\n"
     ]
    },
    {
     "data": {
      "text/plain": [
       "[0.2764137089252472, 0.908545732498169]"
      ]
     },
     "execution_count": 125,
     "metadata": {},
     "output_type": "execute_result"
    }
   ],
   "source": [
    "score=network.evaluate(x_test,y_test)\n",
    "score"
   ]
  },
  {
   "cell_type": "markdown",
   "id": "154b2c2f",
   "metadata": {},
   "source": [
    "## So without any feature selection and standardisation, by directly applying Neural Networks over the unprocessed data, We are getting the accuracy of 89% on training data and 90% on testing data."
   ]
  },
  {
   "cell_type": "markdown",
   "id": "f0a1b767",
   "metadata": {},
   "source": [
    "## Performing EDA"
   ]
  },
  {
   "cell_type": "code",
   "execution_count": 126,
   "id": "38b0313d",
   "metadata": {},
   "outputs": [
    {
     "data": {
      "text/html": [
       "<div>\n",
       "<style scoped>\n",
       "    .dataframe tbody tr th:only-of-type {\n",
       "        vertical-align: middle;\n",
       "    }\n",
       "\n",
       "    .dataframe tbody tr th {\n",
       "        vertical-align: top;\n",
       "    }\n",
       "\n",
       "    .dataframe thead th {\n",
       "        text-align: right;\n",
       "    }\n",
       "</style>\n",
       "<table border=\"1\" class=\"dataframe\">\n",
       "  <thead>\n",
       "    <tr style=\"text-align: right;\">\n",
       "      <th></th>\n",
       "      <th>count</th>\n",
       "      <th>mean</th>\n",
       "      <th>std</th>\n",
       "      <th>min</th>\n",
       "      <th>25%</th>\n",
       "      <th>50%</th>\n",
       "      <th>75%</th>\n",
       "      <th>max</th>\n",
       "    </tr>\n",
       "  </thead>\n",
       "  <tbody>\n",
       "    <tr>\n",
       "      <th>Account length</th>\n",
       "      <td>2666.0</td>\n",
       "      <td>100.620405</td>\n",
       "      <td>39.563974</td>\n",
       "      <td>1.00</td>\n",
       "      <td>73.0000</td>\n",
       "      <td>100.00</td>\n",
       "      <td>127.000</td>\n",
       "      <td>243.00</td>\n",
       "    </tr>\n",
       "    <tr>\n",
       "      <th>Area code</th>\n",
       "      <td>2666.0</td>\n",
       "      <td>437.438860</td>\n",
       "      <td>42.521018</td>\n",
       "      <td>408.00</td>\n",
       "      <td>408.0000</td>\n",
       "      <td>415.00</td>\n",
       "      <td>510.000</td>\n",
       "      <td>510.00</td>\n",
       "    </tr>\n",
       "    <tr>\n",
       "      <th>International plan</th>\n",
       "      <td>2666.0</td>\n",
       "      <td>0.101275</td>\n",
       "      <td>0.301750</td>\n",
       "      <td>0.00</td>\n",
       "      <td>0.0000</td>\n",
       "      <td>0.00</td>\n",
       "      <td>0.000</td>\n",
       "      <td>1.00</td>\n",
       "    </tr>\n",
       "    <tr>\n",
       "      <th>Voice mail plan</th>\n",
       "      <td>2666.0</td>\n",
       "      <td>0.274944</td>\n",
       "      <td>0.446570</td>\n",
       "      <td>0.00</td>\n",
       "      <td>0.0000</td>\n",
       "      <td>0.00</td>\n",
       "      <td>1.000</td>\n",
       "      <td>1.00</td>\n",
       "    </tr>\n",
       "    <tr>\n",
       "      <th>Number vmail messages</th>\n",
       "      <td>2666.0</td>\n",
       "      <td>8.021755</td>\n",
       "      <td>13.612277</td>\n",
       "      <td>0.00</td>\n",
       "      <td>0.0000</td>\n",
       "      <td>0.00</td>\n",
       "      <td>19.000</td>\n",
       "      <td>50.00</td>\n",
       "    </tr>\n",
       "    <tr>\n",
       "      <th>Total day minutes</th>\n",
       "      <td>2666.0</td>\n",
       "      <td>179.481620</td>\n",
       "      <td>54.210350</td>\n",
       "      <td>0.00</td>\n",
       "      <td>143.4000</td>\n",
       "      <td>179.95</td>\n",
       "      <td>215.900</td>\n",
       "      <td>350.80</td>\n",
       "    </tr>\n",
       "    <tr>\n",
       "      <th>Total day calls</th>\n",
       "      <td>2666.0</td>\n",
       "      <td>100.310203</td>\n",
       "      <td>19.988162</td>\n",
       "      <td>0.00</td>\n",
       "      <td>87.0000</td>\n",
       "      <td>101.00</td>\n",
       "      <td>114.000</td>\n",
       "      <td>160.00</td>\n",
       "    </tr>\n",
       "    <tr>\n",
       "      <th>Total day charge</th>\n",
       "      <td>2666.0</td>\n",
       "      <td>30.512404</td>\n",
       "      <td>9.215733</td>\n",
       "      <td>0.00</td>\n",
       "      <td>24.3800</td>\n",
       "      <td>30.59</td>\n",
       "      <td>36.700</td>\n",
       "      <td>59.64</td>\n",
       "    </tr>\n",
       "    <tr>\n",
       "      <th>Total eve minutes</th>\n",
       "      <td>2666.0</td>\n",
       "      <td>200.386159</td>\n",
       "      <td>50.951515</td>\n",
       "      <td>0.00</td>\n",
       "      <td>165.3000</td>\n",
       "      <td>200.90</td>\n",
       "      <td>235.100</td>\n",
       "      <td>363.70</td>\n",
       "    </tr>\n",
       "    <tr>\n",
       "      <th>Total eve calls</th>\n",
       "      <td>2666.0</td>\n",
       "      <td>100.023631</td>\n",
       "      <td>20.161445</td>\n",
       "      <td>0.00</td>\n",
       "      <td>87.0000</td>\n",
       "      <td>100.00</td>\n",
       "      <td>114.000</td>\n",
       "      <td>170.00</td>\n",
       "    </tr>\n",
       "    <tr>\n",
       "      <th>Total eve charge</th>\n",
       "      <td>2666.0</td>\n",
       "      <td>17.033072</td>\n",
       "      <td>4.330864</td>\n",
       "      <td>0.00</td>\n",
       "      <td>14.0500</td>\n",
       "      <td>17.08</td>\n",
       "      <td>19.980</td>\n",
       "      <td>30.91</td>\n",
       "    </tr>\n",
       "    <tr>\n",
       "      <th>Total night minutes</th>\n",
       "      <td>2666.0</td>\n",
       "      <td>201.168942</td>\n",
       "      <td>50.780323</td>\n",
       "      <td>43.70</td>\n",
       "      <td>166.9250</td>\n",
       "      <td>201.15</td>\n",
       "      <td>236.475</td>\n",
       "      <td>395.00</td>\n",
       "    </tr>\n",
       "    <tr>\n",
       "      <th>Total night calls</th>\n",
       "      <td>2666.0</td>\n",
       "      <td>100.106152</td>\n",
       "      <td>19.418459</td>\n",
       "      <td>33.00</td>\n",
       "      <td>87.0000</td>\n",
       "      <td>100.00</td>\n",
       "      <td>113.000</td>\n",
       "      <td>166.00</td>\n",
       "    </tr>\n",
       "    <tr>\n",
       "      <th>Total night charge</th>\n",
       "      <td>2666.0</td>\n",
       "      <td>9.052689</td>\n",
       "      <td>2.285120</td>\n",
       "      <td>1.97</td>\n",
       "      <td>7.5125</td>\n",
       "      <td>9.05</td>\n",
       "      <td>10.640</td>\n",
       "      <td>17.77</td>\n",
       "    </tr>\n",
       "    <tr>\n",
       "      <th>Total intl minutes</th>\n",
       "      <td>2666.0</td>\n",
       "      <td>10.237022</td>\n",
       "      <td>2.788349</td>\n",
       "      <td>0.00</td>\n",
       "      <td>8.5000</td>\n",
       "      <td>10.20</td>\n",
       "      <td>12.100</td>\n",
       "      <td>20.00</td>\n",
       "    </tr>\n",
       "    <tr>\n",
       "      <th>Total intl calls</th>\n",
       "      <td>2666.0</td>\n",
       "      <td>4.467367</td>\n",
       "      <td>2.456195</td>\n",
       "      <td>0.00</td>\n",
       "      <td>3.0000</td>\n",
       "      <td>4.00</td>\n",
       "      <td>6.000</td>\n",
       "      <td>20.00</td>\n",
       "    </tr>\n",
       "    <tr>\n",
       "      <th>Total intl charge</th>\n",
       "      <td>2666.0</td>\n",
       "      <td>2.764490</td>\n",
       "      <td>0.752812</td>\n",
       "      <td>0.00</td>\n",
       "      <td>2.3000</td>\n",
       "      <td>2.75</td>\n",
       "      <td>3.270</td>\n",
       "      <td>5.40</td>\n",
       "    </tr>\n",
       "    <tr>\n",
       "      <th>Customer service calls</th>\n",
       "      <td>2666.0</td>\n",
       "      <td>1.562641</td>\n",
       "      <td>1.311236</td>\n",
       "      <td>0.00</td>\n",
       "      <td>1.0000</td>\n",
       "      <td>1.00</td>\n",
       "      <td>2.000</td>\n",
       "      <td>9.00</td>\n",
       "    </tr>\n",
       "    <tr>\n",
       "      <th>Churn</th>\n",
       "      <td>2666.0</td>\n",
       "      <td>0.145536</td>\n",
       "      <td>0.352707</td>\n",
       "      <td>0.00</td>\n",
       "      <td>0.0000</td>\n",
       "      <td>0.00</td>\n",
       "      <td>0.000</td>\n",
       "      <td>1.00</td>\n",
       "    </tr>\n",
       "  </tbody>\n",
       "</table>\n",
       "</div>"
      ],
      "text/plain": [
       "                         count        mean        std     min       25%  \\\n",
       "Account length          2666.0  100.620405  39.563974    1.00   73.0000   \n",
       "Area code               2666.0  437.438860  42.521018  408.00  408.0000   \n",
       "International plan      2666.0    0.101275   0.301750    0.00    0.0000   \n",
       "Voice mail plan         2666.0    0.274944   0.446570    0.00    0.0000   \n",
       "Number vmail messages   2666.0    8.021755  13.612277    0.00    0.0000   \n",
       "Total day minutes       2666.0  179.481620  54.210350    0.00  143.4000   \n",
       "Total day calls         2666.0  100.310203  19.988162    0.00   87.0000   \n",
       "Total day charge        2666.0   30.512404   9.215733    0.00   24.3800   \n",
       "Total eve minutes       2666.0  200.386159  50.951515    0.00  165.3000   \n",
       "Total eve calls         2666.0  100.023631  20.161445    0.00   87.0000   \n",
       "Total eve charge        2666.0   17.033072   4.330864    0.00   14.0500   \n",
       "Total night minutes     2666.0  201.168942  50.780323   43.70  166.9250   \n",
       "Total night calls       2666.0  100.106152  19.418459   33.00   87.0000   \n",
       "Total night charge      2666.0    9.052689   2.285120    1.97    7.5125   \n",
       "Total intl minutes      2666.0   10.237022   2.788349    0.00    8.5000   \n",
       "Total intl calls        2666.0    4.467367   2.456195    0.00    3.0000   \n",
       "Total intl charge       2666.0    2.764490   0.752812    0.00    2.3000   \n",
       "Customer service calls  2666.0    1.562641   1.311236    0.00    1.0000   \n",
       "Churn                   2666.0    0.145536   0.352707    0.00    0.0000   \n",
       "\n",
       "                           50%      75%     max  \n",
       "Account length          100.00  127.000  243.00  \n",
       "Area code               415.00  510.000  510.00  \n",
       "International plan        0.00    0.000    1.00  \n",
       "Voice mail plan           0.00    1.000    1.00  \n",
       "Number vmail messages     0.00   19.000   50.00  \n",
       "Total day minutes       179.95  215.900  350.80  \n",
       "Total day calls         101.00  114.000  160.00  \n",
       "Total day charge         30.59   36.700   59.64  \n",
       "Total eve minutes       200.90  235.100  363.70  \n",
       "Total eve calls         100.00  114.000  170.00  \n",
       "Total eve charge         17.08   19.980   30.91  \n",
       "Total night minutes     201.15  236.475  395.00  \n",
       "Total night calls       100.00  113.000  166.00  \n",
       "Total night charge        9.05   10.640   17.77  \n",
       "Total intl minutes       10.20   12.100   20.00  \n",
       "Total intl calls          4.00    6.000   20.00  \n",
       "Total intl charge         2.75    3.270    5.40  \n",
       "Customer service calls    1.00    2.000    9.00  \n",
       "Churn                     0.00    0.000    1.00  "
      ]
     },
     "execution_count": 126,
     "metadata": {},
     "output_type": "execute_result"
    }
   ],
   "source": [
    "data.describe().T"
   ]
  },
  {
   "cell_type": "code",
   "execution_count": 127,
   "id": "0ff00fc2",
   "metadata": {},
   "outputs": [
    {
     "data": {
      "text/plain": [
       "array([[<AxesSubplot:title={'center':'Account length'}>,\n",
       "        <AxesSubplot:title={'center':'Area code'}>,\n",
       "        <AxesSubplot:title={'center':'International plan'}>,\n",
       "        <AxesSubplot:title={'center':'Voice mail plan'}>],\n",
       "       [<AxesSubplot:title={'center':'Number vmail messages'}>,\n",
       "        <AxesSubplot:title={'center':'Total day minutes'}>,\n",
       "        <AxesSubplot:title={'center':'Total day calls'}>,\n",
       "        <AxesSubplot:title={'center':'Total day charge'}>],\n",
       "       [<AxesSubplot:title={'center':'Total eve minutes'}>,\n",
       "        <AxesSubplot:title={'center':'Total eve calls'}>,\n",
       "        <AxesSubplot:title={'center':'Total eve charge'}>,\n",
       "        <AxesSubplot:title={'center':'Total night minutes'}>],\n",
       "       [<AxesSubplot:title={'center':'Total night calls'}>,\n",
       "        <AxesSubplot:title={'center':'Total night charge'}>,\n",
       "        <AxesSubplot:title={'center':'Total intl minutes'}>,\n",
       "        <AxesSubplot:title={'center':'Total intl calls'}>],\n",
       "       [<AxesSubplot:title={'center':'Total intl charge'}>,\n",
       "        <AxesSubplot:title={'center':'Customer service calls'}>,\n",
       "        <AxesSubplot:title={'center':'Churn'}>, <AxesSubplot:>]],\n",
       "      dtype=object)"
      ]
     },
     "execution_count": 127,
     "metadata": {},
     "output_type": "execute_result"
    },
    {
     "data": {
      "image/png": "[encoded data removed]",
      "text/plain": [
       "<Figure size 720x1080 with 20 Axes>"
      ]
     },
     "metadata": {
      "needs_background": "light"
     },
     "output_type": "display_data"
    }
   ],
   "source": [
    "data.hist(figsize=(10,15))"
   ]
  },
  {
   "cell_type": "code",
   "execution_count": 128,
   "id": "53b6e466",
   "metadata": {},
   "outputs": [],
   "source": [
    "filtered_data = data.loc[(data['International plan'] == 0) & (data['Voice mail plan'] == 0), 'Churn']"
   ]
  },
  {
   "cell_type": "code",
   "execution_count": 129,
   "id": "15218f05",
   "metadata": {},
   "outputs": [
    {
     "data": {
      "text/plain": [
       "1738"
      ]
     },
     "execution_count": 129,
     "metadata": {},
     "output_type": "execute_result"
    }
   ],
   "source": [
    "filtered_data.count()"
   ]
  },
  {
   "cell_type": "code",
   "execution_count": 130,
   "id": "c1a622fb",
   "metadata": {
    "scrolled": true
   },
   "outputs": [
    {
     "data": {
      "text/plain": [
       "<AxesSubplot:>"
      ]
     },
     "execution_count": 130,
     "metadata": {},
     "output_type": "execute_result"
    },
    {
     "data": {
      "image/png": "[encoded data removed]",
      "text/plain": [
       "<Figure size 432x288 with 1 Axes>"
      ]
     },
     "metadata": {
      "needs_background": "light"
     },
     "output_type": "display_data"
    }
   ],
   "source": [
    "filtered_data.hist()"
   ]
  },
  {
   "cell_type": "markdown",
   "id": "cfd2a8f9",
   "metadata": {},
   "source": [
    "## Top 5 states with most users and their count of churn"
   ]
  },
  {
   "cell_type": "markdown",
   "id": "61095c56",
   "metadata": {},
   "source": [
    "<img src=\"data:image/png;base64,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\">"
   ]
  },
  {
   "cell_type": "markdown",
   "id": "46a93122",
   "metadata": {},
   "source": [
    "## Percentage of customers that are churning and not churning"
   ]
  },
  {
   "cell_type": "markdown",
   "id": "238e65a1",
   "metadata": {},
   "source": [
    "<img src=\"data:image/png;base64,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\" alt=\"image\" iscopyblocked=\"false\">"
   ]
  },
  {
   "cell_type": "code",
   "execution_count": 131,
   "id": "ee47180b",
   "metadata": {},
   "outputs": [
    {
     "data": {
      "text/plain": [
       "<AxesSubplot:>"
      ]
     },
     "execution_count": 131,
     "metadata": {},
     "output_type": "execute_result"
    },
    {
     "data": {
      "image/png": "[encoded data removed]",
      "text/plain": [
       "<Figure size 1440x720 with 2 Axes>"
      ]
     },
     "metadata": {
      "needs_background": "light"
     },
     "output_type": "display_data"
    }
   ],
   "source": [
    "plt.figure(figsize=(20,10))\n",
    "sns.heatmap(data.corr(),annot=True)"
   ]
  },
  {
   "cell_type": "code",
   "execution_count": 132,
   "id": "954f2981",
   "metadata": {},
   "outputs": [],
   "source": [
    "def correlation(dataset,threshold):\n",
    "    col_corr=set()\n",
    "    corr_matrix=dataset.corr()\n",
    "    for i in range(len(corr_matrix.columns)):\n",
    "        for j in range(i):\n",
    "            if abs(corr_matrix.iloc[i,j])>threshold:\n",
    "                colname=corr_matrix.columns[i]\n",
    "                col_corr.add(colname)\n",
    "    return col_corr"
   ]
  },
  {
   "cell_type": "code",
   "execution_count": 133,
   "id": "d19e7e85",
   "metadata": {},
   "outputs": [
    {
     "data": {
      "text/plain": [
       "5"
      ]
     },
     "execution_count": 133,
     "metadata": {},
     "output_type": "execute_result"
    }
   ],
   "source": [
    "corr_features=correlation(data,0.7)\n",
    "len(set(corr_features))"
   ]
  },
  {
   "cell_type": "code",
   "execution_count": 134,
   "id": "414238d8",
   "metadata": {},
   "outputs": [
    {
     "data": {
      "text/plain": [
       "{'Number vmail messages',\n",
       " 'Total day charge',\n",
       " 'Total eve charge',\n",
       " 'Total intl charge',\n",
       " 'Total night charge'}"
      ]
     },
     "execution_count": 134,
     "metadata": {},
     "output_type": "execute_result"
    }
   ],
   "source": [
    "corr_features"
   ]
  },
  {
   "cell_type": "code",
   "execution_count": 135,
   "id": "0d496d33",
   "metadata": {},
   "outputs": [],
   "source": [
    "data=data.drop(corr_features,axis=1)\n",
    "test_data=test_data.drop(corr_features,axis=1)"
   ]
  },
  {
   "cell_type": "code",
   "execution_count": 136,
   "id": "c67a526d",
   "metadata": {},
   "outputs": [
    {
     "data": {
      "text/html": [
       "<div>\n",
       "<style scoped>\n",
       "    .dataframe tbody tr th:only-of-type {\n",
       "        vertical-align: middle;\n",
       "    }\n",
       "\n",
       "    .dataframe tbody tr th {\n",
       "        vertical-align: top;\n",
       "    }\n",
       "\n",
       "    .dataframe thead th {\n",
       "        text-align: right;\n",
       "    }\n",
       "</style>\n",
       "<table border=\"1\" class=\"dataframe\">\n",
       "  <thead>\n",
       "    <tr style=\"text-align: right;\">\n",
       "      <th></th>\n",
       "      <th>State</th>\n",
       "      <th>Account length</th>\n",
       "      <th>Area code</th>\n",
       "      <th>International plan</th>\n",
       "      <th>Voice mail plan</th>\n",
       "      <th>Total day minutes</th>\n",
       "      <th>Total day calls</th>\n",
       "      <th>Total eve minutes</th>\n",
       "      <th>Total eve calls</th>\n",
       "      <th>Total night minutes</th>\n",
       "      <th>Total night calls</th>\n",
       "      <th>Total intl minutes</th>\n",
       "      <th>Total intl calls</th>\n",
       "      <th>Customer service calls</th>\n",
       "      <th>Churn</th>\n",
       "    </tr>\n",
       "  </thead>\n",
       "  <tbody>\n",
       "    <tr>\n",
       "      <th>0</th>\n",
       "      <td>KS</td>\n",
       "      <td>128</td>\n",
       "      <td>415</td>\n",
       "      <td>0</td>\n",
       "      <td>1</td>\n",
       "      <td>265.1</td>\n",
       "      <td>110</td>\n",
       "      <td>197.4</td>\n",
       "      <td>99</td>\n",
       "      <td>244.7</td>\n",
       "      <td>91</td>\n",
       "      <td>10.0</td>\n",
       "      <td>3</td>\n",
       "      <td>1</td>\n",
       "      <td>0</td>\n",
       "    </tr>\n",
       "    <tr>\n",
       "      <th>1</th>\n",
       "      <td>OH</td>\n",
       "      <td>107</td>\n",
       "      <td>415</td>\n",
       "      <td>0</td>\n",
       "      <td>1</td>\n",
       "      <td>161.6</td>\n",
       "      <td>123</td>\n",
       "      <td>195.5</td>\n",
       "      <td>103</td>\n",
       "      <td>254.4</td>\n",
       "      <td>103</td>\n",
       "      <td>13.7</td>\n",
       "      <td>3</td>\n",
       "      <td>1</td>\n",
       "      <td>0</td>\n",
       "    </tr>\n",
       "    <tr>\n",
       "      <th>2</th>\n",
       "      <td>NJ</td>\n",
       "      <td>137</td>\n",
       "      <td>415</td>\n",
       "      <td>0</td>\n",
       "      <td>0</td>\n",
       "      <td>243.4</td>\n",
       "      <td>114</td>\n",
       "      <td>121.2</td>\n",
       "      <td>110</td>\n",
       "      <td>162.6</td>\n",
       "      <td>104</td>\n",
       "      <td>12.2</td>\n",
       "      <td>5</td>\n",
       "      <td>0</td>\n",
       "      <td>0</td>\n",
       "    </tr>\n",
       "    <tr>\n",
       "      <th>3</th>\n",
       "      <td>OH</td>\n",
       "      <td>84</td>\n",
       "      <td>408</td>\n",
       "      <td>1</td>\n",
       "      <td>0</td>\n",
       "      <td>299.4</td>\n",
       "      <td>71</td>\n",
       "      <td>61.9</td>\n",
       "      <td>88</td>\n",
       "      <td>196.9</td>\n",
       "      <td>89</td>\n",
       "      <td>6.6</td>\n",
       "      <td>7</td>\n",
       "      <td>2</td>\n",
       "      <td>0</td>\n",
       "    </tr>\n",
       "    <tr>\n",
       "      <th>4</th>\n",
       "      <td>OK</td>\n",
       "      <td>75</td>\n",
       "      <td>415</td>\n",
       "      <td>1</td>\n",
       "      <td>0</td>\n",
       "      <td>166.7</td>\n",
       "      <td>113</td>\n",
       "      <td>148.3</td>\n",
       "      <td>122</td>\n",
       "      <td>186.9</td>\n",
       "      <td>121</td>\n",
       "      <td>10.1</td>\n",
       "      <td>3</td>\n",
       "      <td>3</td>\n",
       "      <td>0</td>\n",
       "    </tr>\n",
       "    <tr>\n",
       "      <th>...</th>\n",
       "      <td>...</td>\n",
       "      <td>...</td>\n",
       "      <td>...</td>\n",
       "      <td>...</td>\n",
       "      <td>...</td>\n",
       "      <td>...</td>\n",
       "      <td>...</td>\n",
       "      <td>...</td>\n",
       "      <td>...</td>\n",
       "      <td>...</td>\n",
       "      <td>...</td>\n",
       "      <td>...</td>\n",
       "      <td>...</td>\n",
       "      <td>...</td>\n",
       "      <td>...</td>\n",
       "    </tr>\n",
       "    <tr>\n",
       "      <th>2661</th>\n",
       "      <td>SC</td>\n",
       "      <td>79</td>\n",
       "      <td>415</td>\n",
       "      <td>0</td>\n",
       "      <td>0</td>\n",
       "      <td>134.7</td>\n",
       "      <td>98</td>\n",
       "      <td>189.7</td>\n",
       "      <td>68</td>\n",
       "      <td>221.4</td>\n",
       "      <td>128</td>\n",
       "      <td>11.8</td>\n",
       "      <td>5</td>\n",
       "      <td>2</td>\n",
       "      <td>0</td>\n",
       "    </tr>\n",
       "    <tr>\n",
       "      <th>2662</th>\n",
       "      <td>AZ</td>\n",
       "      <td>192</td>\n",
       "      <td>415</td>\n",
       "      <td>0</td>\n",
       "      <td>1</td>\n",
       "      <td>156.2</td>\n",
       "      <td>77</td>\n",
       "      <td>215.5</td>\n",
       "      <td>126</td>\n",
       "      <td>279.1</td>\n",
       "      <td>83</td>\n",
       "      <td>9.9</td>\n",
       "      <td>6</td>\n",
       "      <td>2</td>\n",
       "      <td>0</td>\n",
       "    </tr>\n",
       "    <tr>\n",
       "      <th>2663</th>\n",
       "      <td>WV</td>\n",
       "      <td>68</td>\n",
       "      <td>415</td>\n",
       "      <td>0</td>\n",
       "      <td>0</td>\n",
       "      <td>231.1</td>\n",
       "      <td>57</td>\n",
       "      <td>153.4</td>\n",
       "      <td>55</td>\n",
       "      <td>191.3</td>\n",
       "      <td>123</td>\n",
       "      <td>9.6</td>\n",
       "      <td>4</td>\n",
       "      <td>3</td>\n",
       "      <td>0</td>\n",
       "    </tr>\n",
       "    <tr>\n",
       "      <th>2664</th>\n",
       "      <td>RI</td>\n",
       "      <td>28</td>\n",
       "      <td>510</td>\n",
       "      <td>0</td>\n",
       "      <td>0</td>\n",
       "      <td>180.8</td>\n",
       "      <td>109</td>\n",
       "      <td>288.8</td>\n",
       "      <td>58</td>\n",
       "      <td>191.9</td>\n",
       "      <td>91</td>\n",
       "      <td>14.1</td>\n",
       "      <td>6</td>\n",
       "      <td>2</td>\n",
       "      <td>0</td>\n",
       "    </tr>\n",
       "    <tr>\n",
       "      <th>2665</th>\n",
       "      <td>TN</td>\n",
       "      <td>74</td>\n",
       "      <td>415</td>\n",
       "      <td>0</td>\n",
       "      <td>1</td>\n",
       "      <td>234.4</td>\n",
       "      <td>113</td>\n",
       "      <td>265.9</td>\n",
       "      <td>82</td>\n",
       "      <td>241.4</td>\n",
       "      <td>77</td>\n",
       "      <td>13.7</td>\n",
       "      <td>4</td>\n",
       "      <td>0</td>\n",
       "      <td>0</td>\n",
       "    </tr>\n",
       "  </tbody>\n",
       "</table>\n",
       "<p>2666 rows × 15 columns</p>\n",
       "</div>"
      ],
      "text/plain": [
       "     State  Account length  Area code  International plan  Voice mail plan  \\\n",
       "0       KS             128        415                   0                1   \n",
       "1       OH             107        415                   0                1   \n",
       "2       NJ             137        415                   0                0   \n",
       "3       OH              84        408                   1                0   \n",
       "4       OK              75        415                   1                0   \n",
       "...    ...             ...        ...                 ...              ...   \n",
       "2661    SC              79        415                   0                0   \n",
       "2662    AZ             192        415                   0                1   \n",
       "2663    WV              68        415                   0                0   \n",
       "2664    RI              28        510                   0                0   \n",
       "2665    TN              74        415                   0                1   \n",
       "\n",
       "      Total day minutes  Total day calls  Total eve minutes  Total eve calls  \\\n",
       "0                 265.1              110              197.4               99   \n",
       "1                 161.6              123              195.5              103   \n",
       "2                 243.4              114              121.2              110   \n",
       "3                 299.4               71               61.9               88   \n",
       "4                 166.7              113              148.3              122   \n",
       "...                 ...              ...                ...              ...   \n",
       "2661              134.7               98              189.7               68   \n",
       "2662              156.2               77              215.5              126   \n",
       "2663              231.1               57              153.4               55   \n",
       "2664              180.8              109              288.8               58   \n",
       "2665              234.4              113              265.9               82   \n",
       "\n",
       "      Total night minutes  Total night calls  Total intl minutes  \\\n",
       "0                   244.7                 91                10.0   \n",
       "1                   254.4                103                13.7   \n",
       "2                   162.6                104                12.2   \n",
       "3                   196.9                 89                 6.6   \n",
       "4                   186.9                121                10.1   \n",
       "...                   ...                ...                 ...   \n",
       "2661                221.4                128                11.8   \n",
       "2662                279.1                 83                 9.9   \n",
       "2663                191.3                123                 9.6   \n",
       "2664                191.9                 91                14.1   \n",
       "2665                241.4                 77                13.7   \n",
       "\n",
       "      Total intl calls  Customer service calls  Churn  \n",
       "0                    3                       1      0  \n",
       "1                    3                       1      0  \n",
       "2                    5                       0      0  \n",
       "3                    7                       2      0  \n",
       "4                    3                       3      0  \n",
       "...                ...                     ...    ...  \n",
       "2661                 5                       2      0  \n",
       "2662                 6                       2      0  \n",
       "2663                 4                       3      0  \n",
       "2664                 6                       2      0  \n",
       "2665                 4                       0      0  \n",
       "\n",
       "[2666 rows x 15 columns]"
      ]
     },
     "execution_count": 136,
     "metadata": {},
     "output_type": "execute_result"
    }
   ],
   "source": [
    "data"
   ]
  },
  {
   "cell_type": "markdown",
   "id": "2185c54b",
   "metadata": {},
   "source": [
    "## Now, we removed 5 features from the dataset that are highly correlated. "
   ]
  },
  {
   "cell_type": "code",
   "execution_count": 137,
   "id": "c1bed02c",
   "metadata": {},
   "outputs": [
    {
     "data": {
      "text/html": [
       "<div>\n",
       "<style scoped>\n",
       "    .dataframe tbody tr th:only-of-type {\n",
       "        vertical-align: middle;\n",
       "    }\n",
       "\n",
       "    .dataframe tbody tr th {\n",
       "        vertical-align: top;\n",
       "    }\n",
       "\n",
       "    .dataframe thead th {\n",
       "        text-align: right;\n",
       "    }\n",
       "</style>\n",
       "<table border=\"1\" class=\"dataframe\">\n",
       "  <thead>\n",
       "    <tr style=\"text-align: right;\">\n",
       "      <th></th>\n",
       "      <th>Account length</th>\n",
       "      <th>Area code</th>\n",
       "      <th>International plan</th>\n",
       "      <th>Voice mail plan</th>\n",
       "      <th>Total day minutes</th>\n",
       "      <th>Total day calls</th>\n",
       "      <th>Total eve minutes</th>\n",
       "      <th>Total eve calls</th>\n",
       "      <th>Total night minutes</th>\n",
       "      <th>Total night calls</th>\n",
       "      <th>Total intl minutes</th>\n",
       "      <th>Total intl calls</th>\n",
       "      <th>Customer service calls</th>\n",
       "      <th>Churn</th>\n",
       "    </tr>\n",
       "  </thead>\n",
       "  <tbody>\n",
       "    <tr>\n",
       "      <th>0</th>\n",
       "      <td>128</td>\n",
       "      <td>415</td>\n",
       "      <td>0</td>\n",
       "      <td>1</td>\n",
       "      <td>265.1</td>\n",
       "      <td>110</td>\n",
       "      <td>197.4</td>\n",
       "      <td>99</td>\n",
       "      <td>244.7</td>\n",
       "      <td>91</td>\n",
       "      <td>10.0</td>\n",
       "      <td>3</td>\n",
       "      <td>1</td>\n",
       "      <td>0</td>\n",
       "    </tr>\n",
       "    <tr>\n",
       "      <th>1</th>\n",
       "      <td>107</td>\n",
       "      <td>415</td>\n",
       "      <td>0</td>\n",
       "      <td>1</td>\n",
       "      <td>161.6</td>\n",
       "      <td>123</td>\n",
       "      <td>195.5</td>\n",
       "      <td>103</td>\n",
       "      <td>254.4</td>\n",
       "      <td>103</td>\n",
       "      <td>13.7</td>\n",
       "      <td>3</td>\n",
       "      <td>1</td>\n",
       "      <td>0</td>\n",
       "    </tr>\n",
       "    <tr>\n",
       "      <th>2</th>\n",
       "      <td>137</td>\n",
       "      <td>415</td>\n",
       "      <td>0</td>\n",
       "      <td>0</td>\n",
       "      <td>243.4</td>\n",
       "      <td>114</td>\n",
       "      <td>121.2</td>\n",
       "      <td>110</td>\n",
       "      <td>162.6</td>\n",
       "      <td>104</td>\n",
       "      <td>12.2</td>\n",
       "      <td>5</td>\n",
       "      <td>0</td>\n",
       "      <td>0</td>\n",
       "    </tr>\n",
       "    <tr>\n",
       "      <th>3</th>\n",
       "      <td>84</td>\n",
       "      <td>408</td>\n",
       "      <td>1</td>\n",
       "      <td>0</td>\n",
       "      <td>299.4</td>\n",
       "      <td>71</td>\n",
       "      <td>61.9</td>\n",
       "      <td>88</td>\n",
       "      <td>196.9</td>\n",
       "      <td>89</td>\n",
       "      <td>6.6</td>\n",
       "      <td>7</td>\n",
       "      <td>2</td>\n",
       "      <td>0</td>\n",
       "    </tr>\n",
       "    <tr>\n",
       "      <th>4</th>\n",
       "      <td>75</td>\n",
       "      <td>415</td>\n",
       "      <td>1</td>\n",
       "      <td>0</td>\n",
       "      <td>166.7</td>\n",
       "      <td>113</td>\n",
       "      <td>148.3</td>\n",
       "      <td>122</td>\n",
       "      <td>186.9</td>\n",
       "      <td>121</td>\n",
       "      <td>10.1</td>\n",
       "      <td>3</td>\n",
       "      <td>3</td>\n",
       "      <td>0</td>\n",
       "    </tr>\n",
       "    <tr>\n",
       "      <th>...</th>\n",
       "      <td>...</td>\n",
       "      <td>...</td>\n",
       "      <td>...</td>\n",
       "      <td>...</td>\n",
       "      <td>...</td>\n",
       "      <td>...</td>\n",
       "      <td>...</td>\n",
       "      <td>...</td>\n",
       "      <td>...</td>\n",
       "      <td>...</td>\n",
       "      <td>...</td>\n",
       "      <td>...</td>\n",
       "      <td>...</td>\n",
       "      <td>...</td>\n",
       "    </tr>\n",
       "    <tr>\n",
       "      <th>2661</th>\n",
       "      <td>79</td>\n",
       "      <td>415</td>\n",
       "      <td>0</td>\n",
       "      <td>0</td>\n",
       "      <td>134.7</td>\n",
       "      <td>98</td>\n",
       "      <td>189.7</td>\n",
       "      <td>68</td>\n",
       "      <td>221.4</td>\n",
       "      <td>128</td>\n",
       "      <td>11.8</td>\n",
       "      <td>5</td>\n",
       "      <td>2</td>\n",
       "      <td>0</td>\n",
       "    </tr>\n",
       "    <tr>\n",
       "      <th>2662</th>\n",
       "      <td>192</td>\n",
       "      <td>415</td>\n",
       "      <td>0</td>\n",
       "      <td>1</td>\n",
       "      <td>156.2</td>\n",
       "      <td>77</td>\n",
       "      <td>215.5</td>\n",
       "      <td>126</td>\n",
       "      <td>279.1</td>\n",
       "      <td>83</td>\n",
       "      <td>9.9</td>\n",
       "      <td>6</td>\n",
       "      <td>2</td>\n",
       "      <td>0</td>\n",
       "    </tr>\n",
       "    <tr>\n",
       "      <th>2663</th>\n",
       "      <td>68</td>\n",
       "      <td>415</td>\n",
       "      <td>0</td>\n",
       "      <td>0</td>\n",
       "      <td>231.1</td>\n",
       "      <td>57</td>\n",
       "      <td>153.4</td>\n",
       "      <td>55</td>\n",
       "      <td>191.3</td>\n",
       "      <td>123</td>\n",
       "      <td>9.6</td>\n",
       "      <td>4</td>\n",
       "      <td>3</td>\n",
       "      <td>0</td>\n",
       "    </tr>\n",
       "    <tr>\n",
       "      <th>2664</th>\n",
       "      <td>28</td>\n",
       "      <td>510</td>\n",
       "      <td>0</td>\n",
       "      <td>0</td>\n",
       "      <td>180.8</td>\n",
       "      <td>109</td>\n",
       "      <td>288.8</td>\n",
       "      <td>58</td>\n",
       "      <td>191.9</td>\n",
       "      <td>91</td>\n",
       "      <td>14.1</td>\n",
       "      <td>6</td>\n",
       "      <td>2</td>\n",
       "      <td>0</td>\n",
       "    </tr>\n",
       "    <tr>\n",
       "      <th>2665</th>\n",
       "      <td>74</td>\n",
       "      <td>415</td>\n",
       "      <td>0</td>\n",
       "      <td>1</td>\n",
       "      <td>234.4</td>\n",
       "      <td>113</td>\n",
       "      <td>265.9</td>\n",
       "      <td>82</td>\n",
       "      <td>241.4</td>\n",
       "      <td>77</td>\n",
       "      <td>13.7</td>\n",
       "      <td>4</td>\n",
       "      <td>0</td>\n",
       "      <td>0</td>\n",
       "    </tr>\n",
       "  </tbody>\n",
       "</table>\n",
       "<p>2666 rows × 14 columns</p>\n",
       "</div>"
      ],
      "text/plain": [
       "      Account length  Area code  International plan  Voice mail plan  \\\n",
       "0                128        415                   0                1   \n",
       "1                107        415                   0                1   \n",
       "2                137        415                   0                0   \n",
       "3                 84        408                   1                0   \n",
       "4                 75        415                   1                0   \n",
       "...              ...        ...                 ...              ...   \n",
       "2661              79        415                   0                0   \n",
       "2662             192        415                   0                1   \n",
       "2663              68        415                   0                0   \n",
       "2664              28        510                   0                0   \n",
       "2665              74        415                   0                1   \n",
       "\n",
       "      Total day minutes  Total day calls  Total eve minutes  Total eve calls  \\\n",
       "0                 265.1              110              197.4               99   \n",
       "1                 161.6              123              195.5              103   \n",
       "2                 243.4              114              121.2              110   \n",
       "3                 299.4               71               61.9               88   \n",
       "4                 166.7              113              148.3              122   \n",
       "...                 ...              ...                ...              ...   \n",
       "2661              134.7               98              189.7               68   \n",
       "2662              156.2               77              215.5              126   \n",
       "2663              231.1               57              153.4               55   \n",
       "2664              180.8              109              288.8               58   \n",
       "2665              234.4              113              265.9               82   \n",
       "\n",
       "      Total night minutes  Total night calls  Total intl minutes  \\\n",
       "0                   244.7                 91                10.0   \n",
       "1                   254.4                103                13.7   \n",
       "2                   162.6                104                12.2   \n",
       "3                   196.9                 89                 6.6   \n",
       "4                   186.9                121                10.1   \n",
       "...                   ...                ...                 ...   \n",
       "2661                221.4                128                11.8   \n",
       "2662                279.1                 83                 9.9   \n",
       "2663                191.3                123                 9.6   \n",
       "2664                191.9                 91                14.1   \n",
       "2665                241.4                 77                13.7   \n",
       "\n",
       "      Total intl calls  Customer service calls  Churn  \n",
       "0                    3                       1      0  \n",
       "1                    3                       1      0  \n",
       "2                    5                       0      0  \n",
       "3                    7                       2      0  \n",
       "4                    3                       3      0  \n",
       "...                ...                     ...    ...  \n",
       "2661                 5                       2      0  \n",
       "2662                 6                       2      0  \n",
       "2663                 4                       3      0  \n",
       "2664                 6                       2      0  \n",
       "2665                 4                       0      0  \n",
       "\n",
       "[2666 rows x 14 columns]"
      ]
     },
     "execution_count": 137,
     "metadata": {},
     "output_type": "execute_result"
    }
   ],
   "source": [
    "x=data.iloc[:,1:15]\n",
    "x"
   ]
  },
  {
   "cell_type": "code",
   "execution_count": 138,
   "id": "8cb7cce1",
   "metadata": {},
   "outputs": [
    {
     "data": {
      "text/html": [
       "<div>\n",
       "<style scoped>\n",
       "    .dataframe tbody tr th:only-of-type {\n",
       "        vertical-align: middle;\n",
       "    }\n",
       "\n",
       "    .dataframe tbody tr th {\n",
       "        vertical-align: top;\n",
       "    }\n",
       "\n",
       "    .dataframe thead th {\n",
       "        text-align: right;\n",
       "    }\n",
       "</style>\n",
       "<table border=\"1\" class=\"dataframe\">\n",
       "  <thead>\n",
       "    <tr style=\"text-align: right;\">\n",
       "      <th></th>\n",
       "      <th>Churn</th>\n",
       "    </tr>\n",
       "  </thead>\n",
       "  <tbody>\n",
       "    <tr>\n",
       "      <th>0</th>\n",
       "      <td>0</td>\n",
       "    </tr>\n",
       "    <tr>\n",
       "      <th>1</th>\n",
       "      <td>0</td>\n",
       "    </tr>\n",
       "    <tr>\n",
       "      <th>2</th>\n",
       "      <td>0</td>\n",
       "    </tr>\n",
       "    <tr>\n",
       "      <th>3</th>\n",
       "      <td>0</td>\n",
       "    </tr>\n",
       "    <tr>\n",
       "      <th>4</th>\n",
       "      <td>0</td>\n",
       "    </tr>\n",
       "    <tr>\n",
       "      <th>...</th>\n",
       "      <td>...</td>\n",
       "    </tr>\n",
       "    <tr>\n",
       "      <th>2661</th>\n",
       "      <td>0</td>\n",
       "    </tr>\n",
       "    <tr>\n",
       "      <th>2662</th>\n",
       "      <td>0</td>\n",
       "    </tr>\n",
       "    <tr>\n",
       "      <th>2663</th>\n",
       "      <td>0</td>\n",
       "    </tr>\n",
       "    <tr>\n",
       "      <th>2664</th>\n",
       "      <td>0</td>\n",
       "    </tr>\n",
       "    <tr>\n",
       "      <th>2665</th>\n",
       "      <td>0</td>\n",
       "    </tr>\n",
       "  </tbody>\n",
       "</table>\n",
       "<p>2666 rows × 1 columns</p>\n",
       "</div>"
      ],
      "text/plain": [
       "      Churn\n",
       "0         0\n",
       "1         0\n",
       "2         0\n",
       "3         0\n",
       "4         0\n",
       "...     ...\n",
       "2661      0\n",
       "2662      0\n",
       "2663      0\n",
       "2664      0\n",
       "2665      0\n",
       "\n",
       "[2666 rows x 1 columns]"
      ]
     },
     "execution_count": 138,
     "metadata": {},
     "output_type": "execute_result"
    }
   ],
   "source": [
    "y=data.iloc[:,14:15]\n",
    "y"
   ]
  },
  {
   "cell_type": "code",
   "execution_count": 139,
   "id": "ae0f085e",
   "metadata": {},
   "outputs": [],
   "source": [
    "x_test=test_data.iloc[:,1:15]\n",
    "y_test=test_data.iloc[:,14:15]"
   ]
  },
  {
   "cell_type": "code",
   "execution_count": 140,
   "id": "77dc49d0",
   "metadata": {},
   "outputs": [],
   "source": [
    "x_train,x_val,y_train,y_val=train_test_split(x,y,test_size=0.3)"
   ]
  },
  {
   "cell_type": "code",
   "execution_count": 141,
   "id": "41af52cd",
   "metadata": {},
   "outputs": [
    {
     "data": {
      "text/plain": [
       "(1866, 14)"
      ]
     },
     "execution_count": 141,
     "metadata": {},
     "output_type": "execute_result"
    }
   ],
   "source": [
    "x_train.shape"
   ]
  },
  {
   "cell_type": "code",
   "execution_count": 142,
   "id": "5b8a9010",
   "metadata": {},
   "outputs": [],
   "source": [
    "network=models.Sequential()\n",
    "network.add(layers.Dense(512,activation='leaky_relu',input_shape=(1*14,)))\n",
    "network.add(layers.Dense(128,activation='leaky_relu',input_shape=(1*14,)))\n",
    "network.add(layers.Dense(1,activation='sigmoid'))"
   ]
  },
  {
   "cell_type": "code",
   "execution_count": 143,
   "id": "c8b3e8ce",
   "metadata": {},
   "outputs": [],
   "source": [
    "network.compile(optimizer='rmsprop',loss='binary_crossentropy',metrics=['accuracy'])"
   ]
  },
  {
   "cell_type": "code",
   "execution_count": 147,
   "id": "b11c1143",
   "metadata": {
    "scrolled": false
   },
   "outputs": [
    {
     "name": "stdout",
     "output_type": "stream",
     "text": [
      "Epoch 1/50\n",
      "59/59 [==============================] - 2s 11ms/step - loss: 6.8061 - accuracy: 0.7395 - val_loss: 4.3044 - val_accuracy: 0.8525\n",
      "Epoch 2/50\n",
      "59/59 [==============================] - 0s 6ms/step - loss: 2.6203 - accuracy: 0.7605 - val_loss: 1.6758 - val_accuracy: 0.8525\n",
      "Epoch 3/50\n",
      "59/59 [==============================] - 0s 7ms/step - loss: 1.7359 - accuracy: 0.7669 - val_loss: 2.1373 - val_accuracy: 0.8525\n",
      "Epoch 4/50\n",
      "59/59 [==============================] - 0s 6ms/step - loss: 1.0265 - accuracy: 0.7899 - val_loss: 4.1537 - val_accuracy: 0.1475\n",
      "Epoch 5/50\n",
      "59/59 [==============================] - 1s 9ms/step - loss: 0.7871 - accuracy: 0.7985 - val_loss: 0.9505 - val_accuracy: 0.8525\n",
      "Epoch 6/50\n",
      "59/59 [==============================] - 1s 9ms/step - loss: 0.6322 - accuracy: 0.8092 - val_loss: 0.4016 - val_accuracy: 0.8600\n",
      "Epoch 7/50\n",
      "59/59 [==============================] - 0s 7ms/step - loss: 0.5465 - accuracy: 0.8210 - val_loss: 1.3109 - val_accuracy: 0.8525\n",
      "Epoch 8/50\n",
      "59/59 [==============================] - 0s 6ms/step - loss: 0.4948 - accuracy: 0.8403 - val_loss: 0.6765 - val_accuracy: 0.8550\n",
      "Epoch 9/50\n",
      "59/59 [==============================] - 0s 7ms/step - loss: 0.4859 - accuracy: 0.8414 - val_loss: 0.4756 - val_accuracy: 0.8637\n",
      "Epoch 10/50\n",
      "59/59 [==============================] - 0s 6ms/step - loss: 0.4396 - accuracy: 0.8505 - val_loss: 0.4503 - val_accuracy: 0.8600\n",
      "Epoch 11/50\n",
      "59/59 [==============================] - 0s 6ms/step - loss: 0.4118 - accuracy: 0.8467 - val_loss: 0.4387 - val_accuracy: 0.8712\n",
      "Epoch 12/50\n",
      "59/59 [==============================] - 0s 7ms/step - loss: 0.4131 - accuracy: 0.8623 - val_loss: 0.3660 - val_accuracy: 0.8750\n",
      "Epoch 13/50\n",
      "59/59 [==============================] - 0s 7ms/step - loss: 0.3925 - accuracy: 0.8639 - val_loss: 0.4022 - val_accuracy: 0.8487\n",
      "Epoch 14/50\n",
      "59/59 [==============================] - 0s 7ms/step - loss: 0.3912 - accuracy: 0.8553 - val_loss: 0.3879 - val_accuracy: 0.8537\n",
      "Epoch 15/50\n",
      "59/59 [==============================] - 0s 6ms/step - loss: 0.3732 - accuracy: 0.8655 - val_loss: 0.3040 - val_accuracy: 0.8725\n",
      "Epoch 16/50\n",
      "59/59 [==============================] - 0s 6ms/step - loss: 0.3510 - accuracy: 0.8730 - val_loss: 0.3677 - val_accuracy: 0.8775\n",
      "Epoch 17/50\n",
      "59/59 [==============================] - 1s 9ms/step - loss: 0.3506 - accuracy: 0.8800 - val_loss: 0.4827 - val_accuracy: 0.8225\n",
      "Epoch 18/50\n",
      "59/59 [==============================] - 1s 9ms/step - loss: 0.3475 - accuracy: 0.8585 - val_loss: 0.3324 - val_accuracy: 0.8763\n",
      "Epoch 19/50\n",
      "59/59 [==============================] - 0s 8ms/step - loss: 0.3230 - accuracy: 0.8837 - val_loss: 0.2533 - val_accuracy: 0.8963\n",
      "Epoch 20/50\n",
      "59/59 [==============================] - 1s 10ms/step - loss: 0.3368 - accuracy: 0.8735 - val_loss: 0.2601 - val_accuracy: 0.8750\n",
      "Epoch 21/50\n",
      "59/59 [==============================] - 0s 7ms/step - loss: 0.3108 - accuracy: 0.8912 - val_loss: 0.2751 - val_accuracy: 0.9013\n",
      "Epoch 22/50\n",
      "59/59 [==============================] - 1s 10ms/step - loss: 0.3107 - accuracy: 0.8800 - val_loss: 0.2698 - val_accuracy: 0.8863\n",
      "Epoch 23/50\n",
      "59/59 [==============================] - 1s 10ms/step - loss: 0.3154 - accuracy: 0.8864 - val_loss: 0.2010 - val_accuracy: 0.9375\n",
      "Epoch 24/50\n",
      "59/59 [==============================] - 0s 7ms/step - loss: 0.2788 - accuracy: 0.8982 - val_loss: 0.9255 - val_accuracy: 0.4150\n",
      "Epoch 25/50\n",
      "59/59 [==============================] - 1s 9ms/step - loss: 0.2733 - accuracy: 0.8955 - val_loss: 0.2172 - val_accuracy: 0.9137\n",
      "Epoch 26/50\n",
      "59/59 [==============================] - 0s 6ms/step - loss: 0.2634 - accuracy: 0.9062 - val_loss: 0.1925 - val_accuracy: 0.9212\n",
      "Epoch 27/50\n",
      "59/59 [==============================] - 0s 8ms/step - loss: 0.2520 - accuracy: 0.9175 - val_loss: 0.6119 - val_accuracy: 0.8550\n",
      "Epoch 28/50\n",
      "59/59 [==============================] - 0s 8ms/step - loss: 0.2755 - accuracy: 0.9202 - val_loss: 0.1945 - val_accuracy: 0.9225\n",
      "Epoch 29/50\n",
      "59/59 [==============================] - 1s 9ms/step - loss: 0.2607 - accuracy: 0.9019 - val_loss: 0.1620 - val_accuracy: 0.9275\n",
      "Epoch 30/50\n",
      "59/59 [==============================] - 0s 6ms/step - loss: 0.2253 - accuracy: 0.9218 - val_loss: 0.2070 - val_accuracy: 0.9062\n",
      "Epoch 31/50\n",
      "59/59 [==============================] - 0s 6ms/step - loss: 0.2184 - accuracy: 0.9218 - val_loss: 0.1206 - val_accuracy: 0.9638\n",
      "Epoch 32/50\n",
      "59/59 [==============================] - 0s 6ms/step - loss: 0.2080 - accuracy: 0.9298 - val_loss: 0.3055 - val_accuracy: 0.8825\n",
      "Epoch 33/50\n",
      "59/59 [==============================] - 0s 6ms/step - loss: 0.2050 - accuracy: 0.9255 - val_loss: 1.4692 - val_accuracy: 0.8525\n",
      "Epoch 34/50\n",
      "59/59 [==============================] - 1s 11ms/step - loss: 0.2188 - accuracy: 0.9389 - val_loss: 0.1506 - val_accuracy: 0.9337\n",
      "Epoch 35/50\n",
      "59/59 [==============================] - 1s 9ms/step - loss: 0.2130 - accuracy: 0.9314 - val_loss: 0.1319 - val_accuracy: 0.9463\n",
      "Epoch 36/50\n",
      "59/59 [==============================] - 1s 8ms/step - loss: 0.1818 - accuracy: 0.9411 - val_loss: 1.0699 - val_accuracy: 0.8525\n",
      "Epoch 37/50\n",
      "59/59 [==============================] - 1s 10ms/step - loss: 0.1859 - accuracy: 0.9469 - val_loss: 0.1953 - val_accuracy: 0.9150\n",
      "Epoch 38/50\n",
      "59/59 [==============================] - 0s 8ms/step - loss: 0.1867 - accuracy: 0.9416 - val_loss: 0.0713 - val_accuracy: 0.9750\n",
      "Epoch 39/50\n",
      "59/59 [==============================] - 0s 6ms/step - loss: 0.1841 - accuracy: 0.9427 - val_loss: 0.0716 - val_accuracy: 0.9875\n",
      "Epoch 40/50\n",
      "59/59 [==============================] - 0s 8ms/step - loss: 0.1844 - accuracy: 0.9427 - val_loss: 1.7897 - val_accuracy: 0.2412\n",
      "Epoch 41/50\n",
      "59/59 [==============================] - 0s 8ms/step - loss: 0.1938 - accuracy: 0.9443 - val_loss: 0.0782 - val_accuracy: 0.9663\n",
      "Epoch 42/50\n",
      "59/59 [==============================] - 0s 7ms/step - loss: 0.1498 - accuracy: 0.9593 - val_loss: 1.0287 - val_accuracy: 0.8525\n",
      "Epoch 43/50\n",
      "59/59 [==============================] - 1s 9ms/step - loss: 0.1563 - accuracy: 0.9544 - val_loss: 0.3315 - val_accuracy: 0.8800\n",
      "Epoch 44/50\n",
      "59/59 [==============================] - 0s 6ms/step - loss: 0.2033 - accuracy: 0.9416 - val_loss: 0.0818 - val_accuracy: 0.9775\n",
      "Epoch 45/50\n",
      "59/59 [==============================] - 0s 7ms/step - loss: 0.1367 - accuracy: 0.9593 - val_loss: 0.0568 - val_accuracy: 0.9750\n",
      "Epoch 46/50\n",
      "59/59 [==============================] - 0s 6ms/step - loss: 0.1762 - accuracy: 0.9459 - val_loss: 0.0456 - val_accuracy: 0.9900\n",
      "Epoch 47/50\n",
      "59/59 [==============================] - 0s 7ms/step - loss: 0.1027 - accuracy: 0.9721 - val_loss: 0.5065 - val_accuracy: 0.8487\n",
      "Epoch 48/50\n",
      "59/59 [==============================] - 0s 7ms/step - loss: 0.1693 - accuracy: 0.9512 - val_loss: 0.3221 - val_accuracy: 0.9112\n",
      "Epoch 49/50\n",
      "59/59 [==============================] - 0s 5ms/step - loss: 0.1449 - accuracy: 0.9598 - val_loss: 0.4537 - val_accuracy: 0.8238\n",
      "Epoch 50/50\n",
      "59/59 [==============================] - 0s 6ms/step - loss: 0.1472 - accuracy: 0.9625 - val_loss: 0.1002 - val_accuracy: 0.9550\n"
     ]
    },
    {
     "data": {
      "text/plain": [
       "<keras.callbacks.History at 0x26f2c8221f0>"
      ]
     },
     "execution_count": 147,
     "metadata": {},
     "output_type": "execute_result"
    }
   ],
   "source": [
    "network.fit(x_train,y_train,epochs=50,batch_size=32,validation_data=(x_val,y_val))"
   ]
  },
  {
   "cell_type": "code",
   "execution_count": 148,
   "id": "605c47ba",
   "metadata": {},
   "outputs": [
    {
     "name": "stdout",
     "output_type": "stream",
     "text": [
      "21/21 [==============================] - 0s 3ms/step - loss: 0.1139 - accuracy: 0.9520\n"
     ]
    },
    {
     "data": {
      "text/plain": [
       "[0.11391598731279373, 0.952023983001709]"
      ]
     },
     "execution_count": 148,
     "metadata": {},
     "output_type": "execute_result"
    }
   ],
   "source": [
    "network.evaluate(x_test,y_test)"
   ]
  },
  {
   "cell_type": "markdown",
   "id": "418c163f",
   "metadata": {},
   "source": [
    "## Earlier without any feature selection, our model was giving 90% accuracy on testing data but after feature selection our model is giving 95% accuracy on the testing data."
   ]
  },
  {
   "cell_type": "markdown",
   "id": "74bc01c0",
   "metadata": {},
   "source": [
    "## DECISION TREES"
   ]
  },
  {
   "cell_type": "code",
   "execution_count": 31,
   "id": "73f24275",
   "metadata": {},
   "outputs": [],
   "source": [
    "from sklearn.tree import DecisionTreeClassifier, export_graphviz, ExtraTreeClassifier\n",
    "from sklearn import tree"
   ]
  },
  {
   "cell_type": "code",
   "execution_count": 32,
   "id": "d86ee667",
   "metadata": {},
   "outputs": [],
   "source": [
    "dt= DecisionTreeClassifier(criterion='entropy',min_samples_leaf=9,min_samples_split=2,random_state=42)"
   ]
  },
  {
   "cell_type": "code",
   "execution_count": 33,
   "id": "6fb7ad92",
   "metadata": {},
   "outputs": [
    {
     "data": {
      "text/plain": [
       "DecisionTreeClassifier(criterion='entropy', min_samples_leaf=9, random_state=42)"
      ]
     },
     "execution_count": 33,
     "metadata": {},
     "output_type": "execute_result"
    }
   ],
   "source": [
    "dt.fit(x,y)"
   ]
  },
  {
   "cell_type": "code",
   "execution_count": 34,
   "id": "c7d44788",
   "metadata": {},
   "outputs": [],
   "source": [
    "y_pred=dt.predict(x_test)"
   ]
  },
  {
   "cell_type": "code",
   "execution_count": 35,
   "id": "09f6b416",
   "metadata": {},
   "outputs": [],
   "source": [
    "from sklearn.metrics import confusion_matrix\n",
    "from sklearn.metrics import accuracy_score"
   ]
  },
  {
   "cell_type": "code",
   "execution_count": 36,
   "id": "1d6bc41b",
   "metadata": {},
   "outputs": [
    {
     "data": {
      "text/plain": [
       "0.952023988005997"
      ]
     },
     "execution_count": 36,
     "metadata": {},
     "output_type": "execute_result"
    }
   ],
   "source": [
    "accuracy_score(y_test,y_pred)"
   ]
  },
  {
   "cell_type": "markdown",
   "id": "68768c1d",
   "metadata": {},
   "source": [
    "## RANDOM FORESTS"
   ]
  },
  {
   "cell_type": "code",
   "execution_count": 12,
   "id": "9a5947c0",
   "metadata": {},
   "outputs": [],
   "source": [
    "from sklearn.ensemble import RandomForestClassifier"
   ]
  },
  {
   "cell_type": "code",
   "execution_count": 13,
   "id": "654e77f3",
   "metadata": {},
   "outputs": [],
   "source": [
    "classifier_rf = RandomForestClassifier(random_state=42, n_jobs=-1, max_depth=4,\n",
    "                                       n_estimators=100, oob_score=True)"
   ]
  },
  {
   "cell_type": "code",
   "execution_count": 14,
   "id": "c16473bd",
   "metadata": {},
   "outputs": [
    {
     "name": "stderr",
     "output_type": "stream",
     "text": [
      "<ipython-input-14-95e323e1a0e1>:1: DataConversionWarning: A column-vector y was passed when a 1d array was expected. Please change the shape of y to (n_samples,), for example using ravel().\n",
      "  classifier_rf.fit(x, y)\n"
     ]
    },
    {
     "data": {
      "text/plain": [
       "RandomForestClassifier(max_depth=4, n_jobs=-1, oob_score=True, random_state=42)"
      ]
     },
     "execution_count": 14,
     "metadata": {},
     "output_type": "execute_result"
    }
   ],
   "source": [
    "classifier_rf.fit(x, y)"
   ]
  },
  {
   "cell_type": "code",
   "execution_count": 15,
   "id": "c25b1809",
   "metadata": {},
   "outputs": [
    {
     "data": {
      "text/plain": [
       "0.8990997749437359"
      ]
     },
     "execution_count": 15,
     "metadata": {},
     "output_type": "execute_result"
    }
   ],
   "source": [
    "classifier_rf.oob_score_"
   ]
  },
  {
   "cell_type": "code",
   "execution_count": 16,
   "id": "5186926b",
   "metadata": {},
   "outputs": [],
   "source": [
    "y_pred=classifier_rf.predict(x_test)"
   ]
  },
  {
   "cell_type": "code",
   "execution_count": 19,
   "id": "8f89ec32",
   "metadata": {},
   "outputs": [
    {
     "data": {
      "text/plain": [
       "0.9085457271364318"
      ]
     },
     "execution_count": 19,
     "metadata": {},
     "output_type": "execute_result"
    }
   ],
   "source": [
    "accuracy_score(y_test,y_pred)"
   ]
  },
  {
   "cell_type": "code",
   "execution_count": 20,
   "id": "a966b9b3",
   "metadata": {},
   "outputs": [],
   "source": [
    "params = {\n",
    "    'max_depth': [2,3,5,10,20],\n",
    "    'min_samples_leaf': [5,10,20,50,100,200],\n",
    "    'n_estimators': [10,25,30,50,100,200]\n",
    "}"
   ]
  },
  {
   "cell_type": "code",
   "execution_count": 21,
   "id": "b7aeb383",
   "metadata": {},
   "outputs": [],
   "source": [
    "from sklearn.model_selection import GridSearchCV"
   ]
  },
  {
   "cell_type": "code",
   "execution_count": 22,
   "id": "65c66ad7",
   "metadata": {},
   "outputs": [],
   "source": [
    "grid_search = GridSearchCV(estimator=classifier_rf,\n",
    "                           param_grid=params,\n",
    "                           cv = 4,\n",
    "                           n_jobs=-1, verbose=1, scoring=\"accuracy\")"
   ]
  },
  {
   "cell_type": "code",
   "execution_count": 23,
   "id": "c0504358",
   "metadata": {},
   "outputs": [
    {
     "name": "stdout",
     "output_type": "stream",
     "text": [
      "Fitting 4 folds for each of 180 candidates, totalling 720 fits\n"
     ]
    },
    {
     "name": "stderr",
     "output_type": "stream",
     "text": [
      "C:\\Users\\dhruv\\anaconda3\\lib\\site-packages\\sklearn\\model_selection\\_search.py:880: DataConversionWarning: A column-vector y was passed when a 1d array was expected. Please change the shape of y to (n_samples,), for example using ravel().\n",
      "  self.best_estimator_.fit(X, y, **fit_params)\n"
     ]
    },
    {
     "data": {
      "text/plain": [
       "GridSearchCV(cv=4,\n",
       "             estimator=RandomForestClassifier(max_depth=4, n_jobs=-1,\n",
       "                                              oob_score=True, random_state=42),\n",
       "             n_jobs=-1,\n",
       "             param_grid={'max_depth': [2, 3, 5, 10, 20],\n",
       "                         'min_samples_leaf': [5, 10, 20, 50, 100, 200],\n",
       "                         'n_estimators': [10, 25, 30, 50, 100, 200]},\n",
       "             scoring='accuracy', verbose=1)"
      ]
     },
     "execution_count": 23,
     "metadata": {},
     "output_type": "execute_result"
    }
   ],
   "source": [
    "grid_search.fit(x, y)"
   ]
  },
  {
   "cell_type": "code",
   "execution_count": 24,
   "id": "f5065d3b",
   "metadata": {},
   "outputs": [
    {
     "data": {
      "text/plain": [
       "0.9489894692293492"
      ]
     },
     "execution_count": 24,
     "metadata": {},
     "output_type": "execute_result"
    }
   ],
   "source": [
    "grid_search.best_score_"
   ]
  },
  {
   "cell_type": "code",
   "execution_count": 25,
   "id": "61985a06",
   "metadata": {},
   "outputs": [
    {
     "data": {
      "text/plain": [
       "RandomForestClassifier(max_depth=20, min_samples_leaf=5, n_estimators=200,\n",
       "                       n_jobs=-1, oob_score=True, random_state=42)"
      ]
     },
     "execution_count": 25,
     "metadata": {},
     "output_type": "execute_result"
    }
   ],
   "source": [
    "rf_best = grid_search.best_estimator_\n",
    "rf_best"
   ]
  },
  {
   "cell_type": "code",
   "execution_count": 26,
   "id": "5889d598",
   "metadata": {},
   "outputs": [],
   "source": [
    "classifier_rf = RandomForestClassifier(random_state= 80, n_jobs=-1, max_depth=20,min_samples_leaf=2,\n",
    "                                       n_estimators=25, oob_score=True)"
   ]
  },
  {
   "cell_type": "code",
   "execution_count": 27,
   "id": "823e8384",
   "metadata": {},
   "outputs": [
    {
     "name": "stderr",
     "output_type": "stream",
     "text": [
      "<ipython-input-27-95e323e1a0e1>:1: DataConversionWarning: A column-vector y was passed when a 1d array was expected. Please change the shape of y to (n_samples,), for example using ravel().\n",
      "  classifier_rf.fit(x, y)\n"
     ]
    },
    {
     "data": {
      "text/plain": [
       "RandomForestClassifier(max_depth=20, min_samples_leaf=2, n_estimators=25,\n",
       "                       n_jobs=-1, oob_score=True, random_state=80)"
      ]
     },
     "execution_count": 27,
     "metadata": {},
     "output_type": "execute_result"
    }
   ],
   "source": [
    "classifier_rf.fit(x, y)"
   ]
  },
  {
   "cell_type": "code",
   "execution_count": 28,
   "id": "384e7a98",
   "metadata": {},
   "outputs": [
    {
     "data": {
      "text/plain": [
       "0.9418604651162791"
      ]
     },
     "execution_count": 28,
     "metadata": {},
     "output_type": "execute_result"
    }
   ],
   "source": [
    "classifier_rf.oob_score_"
   ]
  },
  {
   "cell_type": "code",
   "execution_count": 29,
   "id": "eee67606",
   "metadata": {},
   "outputs": [],
   "source": [
    "y_pred=classifier_rf.predict(x_test)"
   ]
  },
  {
   "cell_type": "code",
   "execution_count": 30,
   "id": "ee635dc2",
   "metadata": {},
   "outputs": [
    {
     "data": {
      "text/plain": [
       "0.95952023988006"
      ]
     },
     "execution_count": 30,
     "metadata": {},
     "output_type": "execute_result"
    }
   ],
   "source": [
    "accuracy_score(y_test,y_pred)"
   ]
  },
  {
   "cell_type": "markdown",
   "id": "c339b863",
   "metadata": {},
   "source": [
    "## When we applied ANN to our model without any feature selection, we got 89% accuracy. \n",
    "## But then we applied ANN on our model with feature selection and we got 95% accuracy.\n",
    "## Similarly, when we used Decision Trees and Random Forests without any feature selection, we got the accuracy as 95%. But, after applying feature selection, the model overfits.\n",
    "## As the accuracy of all the models is similar, so ANN (with feature selection) will be a better option otherwise Decision Trees or Random Forests (without feature selection) will be a better option."
   ]
  },
  {
   "cell_type": "code",
   "execution_count": null,
   "id": "86698c9e",
   "metadata": {},
   "outputs": [],
   "source": []
  }
 ],
 "metadata": {
  "kernelspec": {
   "display_name": "Python 3 (ipykernel)",
   "language": "python",
   "name": "python3"
  },
  "language_info": {
   "codemirror_mode": {
    "name": "ipython",
    "version": 3
   },
   "file_extension": ".py",
   "mimetype": "text/x-python",
   "name": "python",
   "nbconvert_exporter": "python",
   "pygments_lexer": "ipython3",
   "version": "3.9.13"
  }
 },
 "nbformat": 4,
 "nbformat_minor": 5
}
